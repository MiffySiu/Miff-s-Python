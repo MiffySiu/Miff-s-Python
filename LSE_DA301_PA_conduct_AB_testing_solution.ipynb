{
 "cells": [
  {
   "cell_type": "markdown",
   "id": "94199fa3",
   "metadata": {},
   "source": [
    "### LSE Data Analytics Online Career Accelerator \n",
    "# Course 301: Data Analytics with Python"
   ]
  },
  {
   "cell_type": "markdown",
   "id": "46fcc342",
   "metadata": {},
   "source": [
    "## Practical activity: Conduct A/B testing in Python"
   ]
  },
  {
   "cell_type": "markdown",
   "id": "26969258",
   "metadata": {},
   "source": [
    "**This is the solution to the activity.**\n",
    "\n",
    "An online bicycle store has changed their home page interface to encourage visitors to click through to their loyalty programme sign-up page. They are hoping the new interface will encourage more visitors to access the loyalty programme page, see what benefits the programme brings, and hopefully then sign up. The current click-through rate sits at around 50% annually, and the company hopes the new design will push this to at least 55%. \n",
    "\n",
    "This analysis uses the `new_bike_shop_AB.csv` data set. Using your Python and data wrangling skills, you will run an A/B test on the data to measure the significance of the interface change based on click-through rates to the loyalty programme page. "
   ]
  },
  {
   "cell_type": "markdown",
   "id": "e0ec3ed0",
   "metadata": {},
   "source": [
    "## 1. Prepare your workstation"
   ]
  },
  {
   "cell_type": "code",
   "execution_count": null,
   "id": "19b7bc2c",
   "metadata": {},
   "outputs": [],
   "source": [
    "# import the necessary libraries\n",
    "import statsmodels.stats.api as sms\n",
    "from statsmodels.stats.power import TTestIndPower"
   ]
  },
  {
   "cell_type": "markdown",
   "id": "8a657692",
   "metadata": {},
   "source": [
    "## 2. Perform power analysis"
   ]
  },
  {
   "cell_type": "code",
   "execution_count": null,
   "id": "78df595c",
   "metadata": {},
   "outputs": [],
   "source": [
    "# perform the power analysis to determine sample size\n",
    "effect = sms.proportion_effectsize(0.50, 0.55)   \n",
    " \n",
    "effect,\n",
    "alpha = 0.05\n",
    "power = 0.8\n",
    "\n",
    "analysis = TTestIndPower()\n",
    "result = analysis.solve_power(effect, power=power, nobs1=None, ratio=1.0, alpha=alpha)\n",
    "\n",
    "print('Sample Size: %.3f' % result)"
   ]
  },
  {
   "cell_type": "markdown",
   "id": "3d7fb98e",
   "metadata": {},
   "source": [
    "## 3. Import data set"
   ]
  },
  {
   "cell_type": "code",
   "execution_count": null,
   "id": "a792761a",
   "metadata": {},
   "outputs": [],
   "source": [
    "# import the necessary libraries\n",
    "import pandas as pd\n",
    "import math\n",
    "import numpy as np\n",
    "import statsmodels.stats.api as sms\n",
    "import scipy.stats as st\n",
    "import matplotlib as mpl\n",
    "import matplotlib.pyplot as plt"
   ]
  },
  {
   "cell_type": "code",
   "execution_count": null,
   "id": "f13db332",
   "metadata": {},
   "outputs": [],
   "source": [
    "# read the data set with Pandas\n",
    "df = pd.read_csv('new_bike_shop_AB.csv')\n",
    "\n",
    "# print the DataFrame\n",
    "print(df.shape)\n",
    "df.head()"
   ]
  },
  {
   "cell_type": "code",
   "execution_count": null,
   "id": "9e5bf6cb",
   "metadata": {},
   "outputs": [],
   "source": [
    "# view DataFrame\n",
    "df.info()"
   ]
  },
  {
   "cell_type": "markdown",
   "id": "60f15937",
   "metadata": {},
   "source": [
    "## 4. Clean the data"
   ]
  },
  {
   "cell_type": "code",
   "execution_count": null,
   "id": "94971627",
   "metadata": {},
   "outputs": [],
   "source": [
    "# rename the columns\n",
    "df_new = df.rename(columns={'IP Address': 'IPAddress', 'LoggedInFlag': \"LoyaltyPage\"})\n",
    "\n",
    "# view the DataFrame\n",
    "print(df_new.shape)\n",
    "df_new.head()"
   ]
  },
  {
   "cell_type": "code",
   "execution_count": null,
   "id": "4cba55ea",
   "metadata": {},
   "outputs": [],
   "source": [
    "# drop duplicate values\n",
    "df_new.drop_duplicates(subset =\"IPAddress\",\n",
    "                       keep = False, inplace = True)\n",
    "\n",
    "\n",
    "# drop duplicate columns\n",
    "df_final = df_new.drop([\"Unnamed: 0\", \"RecordID\", \"VisitPageFlag\"],\n",
    "                       axis=1)\n",
    "\n",
    "\n",
    "# view the DataFrame\n",
    "print(df_final.shape)\n",
    "\n",
    "df_final.info()"
   ]
  },
  {
   "cell_type": "markdown",
   "id": "2d304a09",
   "metadata": {},
   "source": [
    "## 5. Subset the DataFrame"
   ]
  },
  {
   "cell_type": "code",
   "execution_count": null,
   "id": "b28e4b1d",
   "metadata": {},
   "outputs": [],
   "source": [
    "# split data set into ID1 as treatment and ID2 & ID3 as control group\n",
    "df_final['Group'] = df_final['ServerID'].map({1:'Treatment', 2:'Control', 3:'Control'})\n",
    "\n",
    "# view DataFrame\n",
    "print(df_final.shape)\n",
    "df_final.head()"
   ]
  },
  {
   "cell_type": "code",
   "execution_count": null,
   "id": "ca5f29ea",
   "metadata": {},
   "outputs": [],
   "source": [
    "# count the values\n",
    "df_final[\"Group\"].value_counts()"
   ]
  },
  {
   "cell_type": "code",
   "execution_count": null,
   "id": "7d0e36f6",
   "metadata": {},
   "outputs": [],
   "source": [
    "# Create two DataFrames\n",
    "control_sample = df_final[df_final['Group'] == 'Control'].sample(n=1565,\n",
    "                                                                 random_state=22) \n",
    "\n",
    "treatment_sample = df_final[df_final['Group'] == 'Treatment'].sample(n=1565,\n",
    "                                                                       random_state=22)\n",
    "\n",
    "# view the DataFrames\n",
    "print(control_sample)\n",
    "print(treatment_sample)"
   ]
  },
  {
   "cell_type": "markdown",
   "id": "055466e6",
   "metadata": {},
   "source": [
    "## 6. Perform A/B testing"
   ]
  },
  {
   "cell_type": "code",
   "execution_count": null,
   "id": "3508c2a0",
   "metadata": {},
   "outputs": [],
   "source": [
    "# perform A/B testing\n",
    "# create variable and merge DataFrames\n",
    "ab_test = pd.concat([control_sample, treatment_sample], axis=0)\n",
    "\n",
    "ab_test.reset_index(drop=True, inplace=True)\n",
    "\n",
    "# view output\n",
    "ab_test"
   ]
  },
  {
   "cell_type": "code",
   "execution_count": null,
   "id": "a8ee46bf",
   "metadata": {},
   "outputs": [],
   "source": [
    "# calculate the conversion rates\n",
    "conversion_rates = ab_test.groupby('Group')['LoyaltyPage']\n",
    "\n",
    "\n",
    "# Standard deviation of the proportion\n",
    "STD_p = lambda x: np.std(x, ddof=0)    \n",
    "# Standard error of the proportion\n",
    "SE_p = lambda x: st.sem(x, ddof=0)     \n",
    "\n",
    "conversion_rates = conversion_rates.agg([np.mean, STD_p, SE_p])\n",
    "conversion_rates.columns = ['conversion_rate', 'std_deviation', 'std_error']\n",
    "\n",
    "\n",
    "conversion_rates.style.format('{:.3f}')"
   ]
  },
  {
   "cell_type": "code",
   "execution_count": null,
   "id": "a70b8a50",
   "metadata": {},
   "outputs": [],
   "source": [
    "from statsmodels.stats.proportion import proportions_ztest, proportion_confint\n",
    "\n",
    "control_results = ab_test[ab_test['Group'] == 'Control']['LoyaltyPage']\n",
    "treatment_results = ab_test[ab_test['Group'] == 'Treatment']['LoyaltyPage']\n",
    "\n",
    "n_con = control_results.count()\n",
    "n_treat = treatment_results.count()\n",
    "\n",
    "successes = [control_results.sum(), treatment_results.sum()]\n",
    "\n",
    "nobs = [n_con, n_treat]\n",
    "\n",
    "z_stat, pval = proportions_ztest(successes, nobs=nobs)\n",
    "(lower_con, lower_treat), (upper_con, upper_treat) = proportion_confint(successes, nobs=nobs, alpha=0.05)\n",
    "\n",
    "print(f'Z test stat: {z_stat:.2f}')\n",
    "print(f'P-value: {pval:.3f}')\n",
    "print(f'Confidence Interval of 95% for control group: [{lower_con:.3f}, {upper_con:.3f}]')\n",
    "print(f'Confidence Interval of 95% for treatment group: [{lower_treat:.3f}, {upper_treat:.3f}]')"
   ]
  },
  {
   "cell_type": "markdown",
   "id": "ecb4521a",
   "metadata": {},
   "source": [
    "## 7. Summarise results and explain your answers"
   ]
  },
  {
   "cell_type": "markdown",
   "id": "76385666",
   "metadata": {},
   "source": [
    "The change to the homepage slightly decreased the click through to the log in page. \n",
    "\n",
    "The p-value is well over the Alpha value of 0.05, meaning the null hypothesis cannot be rejected. "
   ]
  },
  {
   "cell_type": "code",
   "execution_count": null,
   "id": "8464318a",
   "metadata": {},
   "outputs": [],
   "source": []
  }
 ],
 "metadata": {
  "kernelspec": {
   "display_name": "Python 3 (ipykernel)",
   "language": "python",
   "name": "python3"
  },
  "language_info": {
   "codemirror_mode": {
    "name": "ipython",
    "version": 3
   },
   "file_extension": ".py",
   "mimetype": "text/x-python",
   "name": "python",
   "nbconvert_exporter": "python",
   "pygments_lexer": "ipython3",
   "version": "3.9.12"
  }
 },
 "nbformat": 4,
 "nbformat_minor": 5
}
