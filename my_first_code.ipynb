{
 "cells": [
  {
   "cell_type": "markdown",
   "id": "2068c981",
   "metadata": {},
   "source": [
    "# 1.2.4 Practical activity: Write my first line of code"
   ]
  },
  {
   "cell_type": "code",
   "execution_count": 1,
   "id": "ca3cc0c6",
   "metadata": {},
   "outputs": [
    {
     "name": "stdout",
     "output_type": "stream",
     "text": [
      "My name is Miffy.\n",
      "The date is 22 March 2022\n"
     ]
    }
   ],
   "source": [
    "# this is my first line of code\n",
    "\n",
    "print('My name is Miffy.')\n",
    "print('The date is 22 March 2022')"
   ]
  },
  {
   "cell_type": "code",
   "execution_count": 1,
   "id": "d3898f55",
   "metadata": {},
   "outputs": [
    {
     "name": "stdout",
     "output_type": "stream",
     "text": [
      "182900\n"
     ]
    }
   ],
   "source": [
    "# write a program to analyse real estate data\n",
    "\n",
    "# total sales from December\n",
    "a = 45000\n",
    "b = 23400\n",
    "c = 67000\n",
    "d = 34600\n",
    "e = 12900\n",
    "\n",
    "total_sales = a + b + c + d + e\n",
    "\n",
    "print(total_sales)"
   ]
  },
  {
   "cell_type": "code",
   "execution_count": 2,
   "id": "74d2d742",
   "metadata": {},
   "outputs": [
    {
     "name": "stdout",
     "output_type": "stream",
     "text": [
      "36580.0\n"
     ]
    }
   ],
   "source": [
    "# average sales price for the month of December\n",
    "\n",
    "avg_sales = total_sales / 5\n",
    "\n",
    "print(avg_sales)"
   ]
  },
  {
   "cell_type": "code",
   "execution_count": 3,
   "id": "f186c992",
   "metadata": {},
   "outputs": [
    {
     "name": "stdout",
     "output_type": "stream",
     "text": [
      "60500\n"
     ]
    }
   ],
   "source": [
    "# property price for property C\n",
    "\n",
    "property_price_c = (c - 6500)\n",
    "\n",
    "print(property_price_c)"
   ]
  }
 ],
 "metadata": {
  "kernelspec": {
   "display_name": "Python 3 (ipykernel)",
   "language": "python",
   "name": "python3"
  },
  "language_info": {
   "codemirror_mode": {
    "name": "ipython",
    "version": 3
   },
   "file_extension": ".py",
   "mimetype": "text/x-python",
   "name": "python",
   "nbconvert_exporter": "python",
   "pygments_lexer": "ipython3",
   "version": "3.9.7"
  }
 },
 "nbformat": 4,
 "nbformat_minor": 5
}
