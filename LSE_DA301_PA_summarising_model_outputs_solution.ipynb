{
 "cells": [
  {
   "cell_type": "markdown",
   "id": "94199fa3",
   "metadata": {},
   "source": [
    "### LSE Data Analytics Online Career Accelerator \n",
    "# Course 301: Data Analytics with Python"
   ]
  },
  {
   "cell_type": "markdown",
   "id": "46fcc342",
   "metadata": {},
   "source": [
    "## Practical activity: Summarising model outputs"
   ]
  },
  {
   "cell_type": "markdown",
   "id": "26969258",
   "metadata": {},
   "source": [
    "**This is the solution to the activity.**\n",
    "\n",
    "In the demonstration on the previous page, we created a retirement model for a particular client of a wealth management company. In this activity, you will visualise the model outputs by creating a function to run the model and save the results in a DataFrame. \n",
    "\n",
    "Recall that the client wants to retire when their wealth exceeds $1.5 million. We then created a model to test some scenarios and discovered the clients need to hold on for another 13 years before they can retire with their desired sum. The model essentially tracked wages and savings and maintains a constant growth rate (which includes both the cost of living raises and regular wage increases tied to promotions). \n",
    "\n",
    "To prepare your findings for presentation, you now need to summarise your results and visualise the change in wealth over time for the client. "
   ]
  },
  {
   "cell_type": "markdown",
   "id": "e0ec3ed0",
   "metadata": {},
   "source": [
    "## 1. Prepare your workstation"
   ]
  },
  {
   "cell_type": "code",
   "execution_count": null,
   "id": "19b7bc2c",
   "metadata": {},
   "outputs": [],
   "source": [
    "# import the necessary libraries\n",
    "import pandas as pd\n",
    "import random\n",
    "%matplotlib inline\n",
    "from dataclasses import dataclass\n",
    "from sensitivity import SensitivityAnalyzer"
   ]
  },
  {
   "cell_type": "markdown",
   "id": "8a657692",
   "metadata": {},
   "source": [
    "## 2. Specify the model inputs"
   ]
  },
  {
   "cell_type": "code",
   "execution_count": null,
   "id": "78df595c",
   "metadata": {},
   "outputs": [],
   "source": [
    "# create a class and instance\n",
    "@dataclass\n",
    "class ModelInputs:\n",
    "    starting_salary: int = 300000\n",
    "    promos_every_n_years: int = 5\n",
    "    cost_of_living_raise: float = 0.025\n",
    "    promo_raise: float = 0.15\n",
    "    savings_rate: float = 0.20\n",
    "    interest_rate: float = 0.07\n",
    "    desired_cash: int = 1500000\n",
    "        \n",
    "model_data = ModelInputs()\n",
    "\n",
    "model_data"
   ]
  },
  {
   "cell_type": "markdown",
   "id": "3d7fb98e",
   "metadata": {},
   "source": [
    "## 3. Write statistical formula"
   ]
  },
  {
   "cell_type": "code",
   "execution_count": null,
   "id": "834eddaa",
   "metadata": {},
   "outputs": [],
   "source": [
    "# Calculate wage at a given year from start of the model based on cost of living, \n",
    "# raises and regular promotion.\n",
    "def wages_year(data: ModelInputs, year)->float:\n",
    "    \"\"\"\n",
    "    Gets the wage at a given year from the start of the model based \n",
    "    on cost of living raises and regular promotions.\n",
    "    \"\"\"\n",
    "    # Every n years we have a promotion, so dividing the years and taking \n",
    "    # out the decimals gets the number of promotions\n",
    "    num_promos = int(year / data.promos_every_n_years)\n",
    "    \n",
    "    # This is the formula above implemented in Python\n",
    "    salary_t = data.starting_salary * (1 + data.cost_of_living_raise)\\\n",
    "    ** year * (1 + data.promo_raise) ** num_promos\n",
    "    return salary_t\n",
    "\n",
    "for i in range(4):\n",
    "    year = i + 1\n",
    "    salary = wages_year(model_data, year)\n",
    "    print(f'The wage at year {year} is ${salary:,.0f}.')"
   ]
  },
  {
   "cell_type": "code",
   "execution_count": null,
   "id": "c76cbb3f",
   "metadata": {},
   "outputs": [],
   "source": [
    "def cash_saved_during_year(data: ModelInputs, year):\n",
    "    \"\"\"\n",
    "    Calculated the cash saved within a given year, by first \n",
    "    calculating the salary at that year then applying the \n",
    "    savings rate.\n",
    "    \"\"\"\n",
    "    salary = wages_year(data, year)\n",
    "    cash_saved = salary * data.savings_rate\n",
    "    return cash_saved"
   ]
  },
  {
   "cell_type": "code",
   "execution_count": null,
   "id": "3564c169",
   "metadata": {},
   "outputs": [],
   "source": [
    "def wealth_year(data: ModelInputs, year, prior_wealth):\n",
    "    \"\"\"\n",
    "    Calculate the accumulated wealth for a given year, \n",
    "    based on previous wealth, the investment rate,\n",
    "    and cash saved during the year.\n",
    "    \"\"\"\n",
    "    cash_saved = cash_saved_during_year(data, year)\n",
    "    wealth = prior_wealth * (1 + data.interest_rate) + cash_saved\n",
    "    return wealth"
   ]
  },
  {
   "cell_type": "code",
   "execution_count": null,
   "id": "752aca71",
   "metadata": {},
   "outputs": [],
   "source": [
    "# starting with no cash saved\n",
    "prior_wealth = 0  \n",
    "for i in range(4):\n",
    "    year = i + 1\n",
    "    wealth = wealth_year(model_data, year, prior_wealth)\n",
    "    print(f'The wealth at year {year} is ${wealth:,.0f}.')\n",
    "    \n",
    "    # Set next year's prior wealth to this year's wealth\n",
    "    prior_wealth = wealth"
   ]
  },
  {
   "cell_type": "code",
   "execution_count": null,
   "id": "7f557e07",
   "metadata": {},
   "outputs": [],
   "source": [
    "# Runs the retirement model; collects salary and wealth information year by year\n",
    "# and stores it in a DataFrame for further analysis:\n",
    "\n",
    "def get_salaries_wealths_df(data):\n",
    "    prior_wealth = 0   # Start with no cash saved.\n",
    "    wealth = 0\n",
    "    # The ‘year’ becomes ‘1’ on the first loop.\n",
    "    year = 0  \n",
    "\n",
    "    df_data_tups = []\n",
    "    while wealth < data.desired_cash:\n",
    "        year = year + 1\n",
    "        salary = wages_year(data, year)\n",
    "        wealth = wealth_year(data, year, prior_wealth)\n",
    "\n",
    "         # Set next year's prior wealth to this year's wealth:\n",
    "        prior_wealth = wealth \n",
    "\n",
    "        # Save the results in a tuple for later building the DataFrame:\n",
    "        df_data_tups.append((year, salary, wealth))\n",
    "        \n",
    "    # Now we have run the while loop, so wealth must be >= desired_cash; \n",
    "    # create the DataFrame:\n",
    "    df = pd.DataFrame(df_data_tups, columns=['Year', 'Salary', 'Wealth'])\n",
    "    \n",
    "    return df"
   ]
  },
  {
   "cell_type": "code",
   "execution_count": null,
   "id": "adb83e19",
   "metadata": {},
   "outputs": [],
   "source": [
    "# format DataFrame for display\n",
    "get_salaries_wealths_df(model_data)"
   ]
  },
  {
   "cell_type": "code",
   "execution_count": null,
   "id": "dff035e4",
   "metadata": {},
   "outputs": [],
   "source": [
    "# Save the function results into the DataFrame\n",
    "results_df = get_salaries_wealths_df(model_data)\n",
    "\n",
    "# view the DataFrame\n",
    "results_df.head()"
   ]
  },
  {
   "cell_type": "markdown",
   "id": "60f15937",
   "metadata": {},
   "source": [
    "## 4. Create visualisation"
   ]
  },
  {
   "cell_type": "code",
   "execution_count": null,
   "id": "455c51f9",
   "metadata": {},
   "outputs": [],
   "source": [
    "# visualise wage or salary change over time\n",
    "results_df.plot( 'Year' , 'Salary')"
   ]
  },
  {
   "cell_type": "code",
   "execution_count": null,
   "id": "169820a6",
   "metadata": {},
   "outputs": [],
   "source": [
    "# visualise wealth change over time\n",
    "results_df.plot( 'Year' , 'Wealth')"
   ]
  },
  {
   "cell_type": "code",
   "execution_count": null,
   "id": "28b39e07",
   "metadata": {},
   "outputs": [],
   "source": []
  }
 ],
 "metadata": {
  "kernelspec": {
   "display_name": "Python 3 (ipykernel)",
   "language": "python",
   "name": "python3"
  },
  "language_info": {
   "codemirror_mode": {
    "name": "ipython",
    "version": 3
   },
   "file_extension": ".py",
   "mimetype": "text/x-python",
   "name": "python",
   "nbconvert_exporter": "python",
   "pygments_lexer": "ipython3",
   "version": "3.9.12"
  }
 },
 "nbformat": 4,
 "nbformat_minor": 5
}
