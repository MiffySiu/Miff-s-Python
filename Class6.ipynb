{
 "cells": [
  {
   "cell_type": "markdown",
   "id": "d38c5f9d-04a4-4855-b513-30c49fb41965",
   "metadata": {
    "tags": []
   },
   "source": [
    "# LSE CA C2: Class 6\n",
    "\n",
    "### Assignment template discussion\n",
    "You should have seen some changes in the format of the assignment for the final week and we can also discuss the final project where the team has been hard at work to make changes to clear up the expectations and uncertainties.\n",
    "\n",
    "#### Assignment questions\n",
    "1. Will we be marked down for comments being in seperate cell blocks?? (I wouldn't normally do but in the template it helps keep clean).\n",
    "2. Are we expected to comment every cell? Or can main comment above and then do cells?\n",
    "3. The numbers don't make real world sense - are we to pretend like they are real (even if the numbers don't correlate with the population) or are we to comment as if they are false?\n",
    "4. The report - it's to be written in the markdowns in the Notebook and pdf? or either?\n",
    "5. When changing the dataframe after joining the covid and the vac data - are we expected to keep as one dataframe or split into regions?\n",
    "\n",
    "### Other questions\n",
    "- twitter.yaml\n",
    "- environments and loading sql\n",
    "\n",
    "![](https://github.com/apvoges/lse-ca/blob/main/sql_python.png?raw=true)\n",
    "\n",
    "\n"
   ]
  },
  {
   "cell_type": "code",
   "execution_count": 1,
   "id": "9290c328-59e2-4595-bc0d-ed9fd6960ac1",
   "metadata": {},
   "outputs": [
    {
     "data": {
      "text/html": [
       "<div>\n",
       "<style scoped>\n",
       "    .dataframe tbody tr th:only-of-type {\n",
       "        vertical-align: middle;\n",
       "    }\n",
       "\n",
       "    .dataframe tbody tr th {\n",
       "        vertical-align: top;\n",
       "    }\n",
       "\n",
       "    .dataframe thead th {\n",
       "        text-align: right;\n",
       "    }\n",
       "</style>\n",
       "<table border=\"1\" class=\"dataframe\">\n",
       "  <thead>\n",
       "    <tr style=\"text-align: right;\">\n",
       "      <th></th>\n",
       "      <th>str</th>\n",
       "    </tr>\n",
       "  </thead>\n",
       "  <tbody>\n",
       "    <tr>\n",
       "      <th>0</th>\n",
       "      <td>myvar/n</td>\n",
       "    </tr>\n",
       "  </tbody>\n",
       "</table>\n",
       "</div>"
      ],
      "text/plain": [
       "       str\n",
       "0  myvar/n"
      ]
     },
     "execution_count": 1,
     "metadata": {},
     "output_type": "execute_result"
    }
   ],
   "source": [
    "import numpy as np\n",
    "import pandas as pd\n",
    "df = pd.DataFrame(['myvar/n'],columns=[\"str\"])\n",
    "df\n",
    "# Note that I did not assign the changes back to the table\n",
    "# Make sure to persist the changes after testing that your function works as expected"
   ]
  },
  {
   "cell_type": "code",
   "execution_count": 2,
   "id": "84ab9daa-5f56-4dc8-aee5-d08cbfcfeab9",
   "metadata": {},
   "outputs": [
    {
     "data": {
      "text/plain": [
       "0    myvar\n",
       "Name: str, dtype: object"
      ]
     },
     "execution_count": 2,
     "metadata": {},
     "output_type": "execute_result"
    }
   ],
   "source": [
    "df[\"str\"].replace(r\"/n\",\"\",regex=True)"
   ]
  },
  {
   "cell_type": "code",
   "execution_count": 3,
   "id": "bdcf2595-b03c-43a1-9384-4a6464dd4604",
   "metadata": {},
   "outputs": [
    {
     "data": {
      "text/plain": [
       "0    myvar\n",
       "Name: str, dtype: object"
      ]
     },
     "execution_count": 3,
     "metadata": {},
     "output_type": "execute_result"
    }
   ],
   "source": [
    "df[\"str\"].replace(\"/n\",\"\",regex=True)"
   ]
  },
  {
   "cell_type": "markdown",
   "id": "def8a7d2-2253-4041-9bac-3205abeb0601",
   "metadata": {
    "tags": []
   },
   "source": [
    "### Week 6: Business forecasting\n",
    "\n",
    "This week we will discuss business forecasting (predictive modelling and forecasting) in preparation for course 3. (Classical statistics, data science)\n",
    "\n",
    "> ***Additional reading material:*** [What’s the difference between analytics and statistics?](https://www.kdnuggets.com/2019/09/difference-analytics-statistics.html)\n",
    "> Statistics and analytics are two branches of data science that share many of their early heroes, so the occasional beer is still dedicated to a lively debate about where to draw the boundary between them. Practically, however, modern training programs bearing those names emphasize completely different pursuits. While analysts specialize in exploring what’s in your data, statisticians focus more on inferring what’s beyond it.\n",
    "\n",
    "![](https://github.com/apvoges/lse-ca/blob/main/forecasting.png?raw=true)\n",
    "\n",
    "***Predictive modelling:*** Utilises artificial intelligence (AI) and machine learning (ML) algorithms like data mining and probability to forecast or estimate more granular and specific outcomes. Predictive modelling extracts information from data sets and indicates what might happen in the future. \n",
    "\n",
    "***Forecasting:*** Estimating/predicting future events/trends based on historic and current (present) data by incorporating time series and analysing trends. As forecast is a subcategory of predictive modelling, it needs to include defendable logic. In essence, no guessing!\n",
    "\n",
    "Elements of business forecasting\n",
    "- Why it's important to choose a problem based on business requirements. \n",
    "- When to identify the relevant variables that need to be considered in any forecast.\n",
    "- What to do when there are major variations, contradictions, or new variables in a forecast. \n",
    "\n",
    "\n",
    "> ***Additional reading material (After the assignment):***\n",
    "\n",
    "> [50 Years of Data Science](https://www.tandfonline.com/doi/full/10.1080/10618600.2017.1384734)\n",
    "\n",
    "> [Data science vs statistics: Two cultures](https://par.nsf.gov/servlets/purl/10100724)\n",
    "\n",
    "> [Which machine learning algorithm should I use?](https://blogs.sas.com/content/subconsciousmusings/2020/12/09/machine-learning-algorithm-use/)\n",
    "\n",
    "> [Medium: Cheat sheets of ML and Python](https://medium.com/machine-learning-in-practice/cheat-sheet-of-machine-learning-and-python-and-math-cheat-sheets-a4afe4e791b6)"
   ]
  },
  {
   "cell_type": "code",
   "execution_count": 4,
   "id": "02415e54-db73-42a7-b029-78adfc784187",
   "metadata": {},
   "outputs": [
    {
     "name": "stdout",
     "output_type": "stream",
     "text": [
      "(29580, 4)\n"
     ]
    },
    {
     "data": {
      "text/html": [
       "<div>\n",
       "<style scoped>\n",
       "    .dataframe tbody tr th:only-of-type {\n",
       "        vertical-align: middle;\n",
       "    }\n",
       "\n",
       "    .dataframe tbody tr th {\n",
       "        vertical-align: top;\n",
       "    }\n",
       "\n",
       "    .dataframe thead th {\n",
       "        text-align: right;\n",
       "    }\n",
       "</style>\n",
       "<table border=\"1\" class=\"dataframe\">\n",
       "  <thead>\n",
       "    <tr style=\"text-align: right;\">\n",
       "      <th></th>\n",
       "      <th>postcode</th>\n",
       "      <th>price</th>\n",
       "      <th>propertyType</th>\n",
       "      <th>bedrooms</th>\n",
       "    </tr>\n",
       "    <tr>\n",
       "      <th>datesold</th>\n",
       "      <th></th>\n",
       "      <th></th>\n",
       "      <th></th>\n",
       "      <th></th>\n",
       "    </tr>\n",
       "  </thead>\n",
       "  <tbody>\n",
       "    <tr>\n",
       "      <th>2007-02-07</th>\n",
       "      <td>2607</td>\n",
       "      <td>525000</td>\n",
       "      <td>house</td>\n",
       "      <td>4</td>\n",
       "    </tr>\n",
       "    <tr>\n",
       "      <th>2007-02-27</th>\n",
       "      <td>2906</td>\n",
       "      <td>290000</td>\n",
       "      <td>house</td>\n",
       "      <td>3</td>\n",
       "    </tr>\n",
       "    <tr>\n",
       "      <th>2007-03-07</th>\n",
       "      <td>2905</td>\n",
       "      <td>328000</td>\n",
       "      <td>house</td>\n",
       "      <td>3</td>\n",
       "    </tr>\n",
       "    <tr>\n",
       "      <th>2007-03-09</th>\n",
       "      <td>2905</td>\n",
       "      <td>380000</td>\n",
       "      <td>house</td>\n",
       "      <td>4</td>\n",
       "    </tr>\n",
       "    <tr>\n",
       "      <th>2007-03-21</th>\n",
       "      <td>2906</td>\n",
       "      <td>310000</td>\n",
       "      <td>house</td>\n",
       "      <td>3</td>\n",
       "    </tr>\n",
       "  </tbody>\n",
       "</table>\n",
       "</div>"
      ],
      "text/plain": [
       "            postcode   price propertyType  bedrooms\n",
       "datesold                                           \n",
       "2007-02-07      2607  525000        house         4\n",
       "2007-02-27      2906  290000        house         3\n",
       "2007-03-07      2905  328000        house         3\n",
       "2007-03-09      2905  380000        house         4\n",
       "2007-03-21      2906  310000        house         3"
      ]
     },
     "execution_count": 4,
     "metadata": {},
     "output_type": "execute_result"
    }
   ],
   "source": [
    "# 6.1.6\n",
    "# Import libraries.\n",
    "import numpy as np\n",
    "import pandas as pd\n",
    "import matplotlib.pyplot as plt\n",
    "import seaborn as sns\n",
    "sns.set()\n",
    "\n",
    "from sklearn.metrics import r2_score, median_absolute_error, mean_absolute_error\n",
    "from sklearn.metrics import median_absolute_error, mean_squared_error, mean_squared_log_error\n",
    "\n",
    "import warnings\n",
    "warnings.filterwarnings('ignore')\n",
    "\n",
    "%matplotlib inline\n",
    "\n",
    "# Get multiple outputs in the same cell.\n",
    "from IPython.core.interactiveshell import InteractiveShell\n",
    "InteractiveShell.ast_node_interactivity = \"all\"\n",
    " \n",
    "\n",
    "# Import the CSV file with Pandas.\n",
    "data = pd.read_csv(\"w6/Data/raw_sales.csv\", index_col=['datesold'], parse_dates=['datesold'])\n",
    "\n",
    "# View the DataFrame.\n",
    "print(data.shape)\n",
    "data.head()"
   ]
  },
  {
   "cell_type": "code",
   "execution_count": 5,
   "id": "67719e48-22c0-4469-8b43-81db9a882bc9",
   "metadata": {},
   "outputs": [
    {
     "data": {
      "text/plain": [
       "<AxesSubplot:xlabel='datesold'>"
      ]
     },
     "execution_count": 5,
     "metadata": {},
     "output_type": "execute_result"
    },
    {
     "data": {
      "text/plain": [
       "<matplotlib.legend.Legend at 0x1179f21f0>"
      ]
     },
     "execution_count": 5,
     "metadata": {},
     "output_type": "execute_result"
    },
    {
     "data": {
      "text/plain": [
       "Text(0.5, 1.0, 'Housing Prices')"
      ]
     },
     "execution_count": 5,
     "metadata": {},
     "output_type": "execute_result"
    },
    {
     "data": {
      "image/png": "[encoded data removed]",
      "text/plain": [
       "<Figure size 864x288 with 1 Axes>"
      ]
     },
     "metadata": {
      "needs_background": "light"
     },
     "output_type": "display_data"
    },
    {
     "data": {
      "text/plain": [
       "postcode        0\n",
       "price           0\n",
       "propertyType    0\n",
       "bedrooms        0\n",
       "dtype: int64"
      ]
     },
     "execution_count": 5,
     "metadata": {},
     "output_type": "execute_result"
    }
   ],
   "source": [
    "# Explore the data\n",
    "# Plot the house prices as a time series.\n",
    "# Plot the size.\n",
    "data.plot(figsize=(12, 4))\n",
    "\n",
    "# Specify the legend and title of the plot.\n",
    "plt.legend(loc='best')\n",
    "plt.title('Housing Prices')\n",
    "plt.show(block=False);\n",
    "\n",
    "# Check for missing values.\n",
    "data.isna().sum()"
   ]
  },
  {
   "cell_type": "code",
   "execution_count": 6,
   "id": "b6d23e38-2338-402c-b7a0-53d88380f68e",
   "metadata": {},
   "outputs": [
    {
     "name": "stdout",
     "output_type": "stream",
     "text": [
      "3    11933\n",
      "4    10442\n",
      "2     3598\n",
      "5     1950\n",
      "1     1627\n",
      "0       30\n",
      "Name: bedrooms, dtype: int64\n"
     ]
    },
    {
     "data": {
      "text/plain": [
       "Text(0.5, 1.0, 'Count of number of bedrooms')"
      ]
     },
     "execution_count": 6,
     "metadata": {},
     "output_type": "execute_result"
    },
    {
     "data": {
      "text/plain": [
       "<AxesSubplot:title={'center':'Count of number of bedrooms'}, xlabel='bedrooms', ylabel='count'>"
      ]
     },
     "execution_count": 6,
     "metadata": {},
     "output_type": "execute_result"
    },
    {
     "data": {
      "image/png": "[encoded data removed]",
      "text/plain": [
       "<Figure size 432x288 with 1 Axes>"
      ]
     },
     "metadata": {
      "needs_background": "light"
     },
     "output_type": "display_data"
    }
   ],
   "source": [
    "# Subset of the data\n",
    "# Count the number of values in a specified column of the DataFrame.\n",
    "print(data['bedrooms'].value_counts())\n",
    "\n",
    "# Create a plot.\n",
    "plt.title('Count of number of bedrooms')\n",
    "\n",
    "sns.despine(left=True);\n",
    "sns.countplot(x='bedrooms', data=data)"
   ]
  },
  {
   "cell_type": "code",
   "execution_count": null,
   "id": "efe76903-d6c0-4417-83b4-e8f9eaafb96d",
   "metadata": {},
   "outputs": [],
   "source": []
  },
  {
   "cell_type": "code",
   "execution_count": 7,
   "id": "77c433e3-6af0-40cf-b827-d0f64d3cb841",
   "metadata": {},
   "outputs": [
    {
     "name": "stdout",
     "output_type": "stream",
     "text": [
      "(1627, 4)\n",
      "(3598, 4)\n",
      "(11933, 4)\n",
      "(10442, 4)\n",
      "(1950, 4)\n"
     ]
    }
   ],
   "source": [
    "# Create a copy of the original data for convinience.\n",
    "data_sub = data.copy()\n",
    "\n",
    "# Create subsets of the data for separate graphs\n",
    "\n",
    "# Data set consisting of houses with 1 bedroom: \n",
    "df_1 = data_sub[data_sub['bedrooms']==1]\n",
    "print(df_1.shape)\n",
    "\n",
    "# Data set consisting of houses with 2 bedrooms: \n",
    "df_2 = data_sub[data_sub['bedrooms']==2]\n",
    "print(df_2.shape)\n",
    "\n",
    "# Data set consisting of houses with 3 bedrooms: \n",
    "df_3 = data_sub[data_sub['bedrooms']==3]\n",
    "print(df_3.shape)\n",
    "\n",
    "# Data set consisting of houses with 4 bedrooms: \n",
    "df_4 = data_sub[data_sub['bedrooms']==4]\n",
    "print(df_4.shape)\n",
    "\n",
    "# Data set consisting of houses with 5 bedrooms: \n",
    "df_5 = data_sub[data_sub['bedrooms']==5]\n",
    "print(df_5.shape)"
   ]
  },
  {
   "cell_type": "code",
   "execution_count": 8,
   "id": "6df94292-6ccf-4a01-8934-14d700228440",
   "metadata": {},
   "outputs": [
    {
     "data": {
      "text/plain": [
       "(array([613., 982.,  27.,   2.,   1.,   0.,   1.,   0.,   0.,   1.]),\n",
       " array([  85000.,  304500.,  524000.,  743500.,  963000., 1182500.,\n",
       "        1402000., 1621500., 1841000., 2060500., 2280000.]),\n",
       " <BarContainer object of 10 artists>)"
      ]
     },
     "execution_count": 8,
     "metadata": {},
     "output_type": "execute_result"
    },
    {
     "data": {
      "text/plain": [
       "(array([1.526e+03, 1.846e+03, 1.950e+02, 2.300e+01, 6.000e+00, 0.000e+00,\n",
       "        0.000e+00, 0.000e+00, 1.000e+00, 1.000e+00]),\n",
       " array([  96000.,  391400.,  686800.,  982200., 1277600., 1573000.,\n",
       "        1868400., 2163800., 2459200., 2754600., 3050000.]),\n",
       " <BarContainer object of 10 artists>)"
      ]
     },
     "execution_count": 8,
     "metadata": {},
     "output_type": "execute_result"
    },
    {
     "data": {
      "text/plain": [
       "(array([1.0209e+04, 1.6280e+03, 8.4000e+01, 8.0000e+00, 1.0000e+00,\n",
       "        0.0000e+00, 2.0000e+00, 0.0000e+00, 0.0000e+00, 1.0000e+00]),\n",
       " array([  69000.,  710100., 1351200., 1992300., 2633400., 3274500.,\n",
       "        3915600., 4556700., 5197800., 5838900., 6480000.]),\n",
       " <BarContainer object of 10 artists>)"
      ]
     },
     "execution_count": 8,
     "metadata": {},
     "output_type": "execute_result"
    },
    {
     "data": {
      "text/plain": [
       "(array([8.528e+03, 1.767e+03, 1.260e+02, 1.600e+01, 1.000e+00, 2.000e+00,\n",
       "        1.000e+00, 0.000e+00, 0.000e+00, 1.000e+00]),\n",
       " array([  56500.,  850850., 1645200., 2439550., 3233900., 4028250.,\n",
       "        4822600., 5616950., 6411300., 7205650., 8000000.]),\n",
       " <BarContainer object of 10 artists>)"
      ]
     },
     "execution_count": 8,
     "metadata": {},
     "output_type": "execute_result"
    },
    {
     "data": {
      "text/plain": [
       "(array([1.289e+03, 5.590e+02, 7.400e+01, 1.700e+01, 7.000e+00, 1.000e+00,\n",
       "        1.000e+00, 1.000e+00, 0.000e+00, 1.000e+00]),\n",
       " array([ 210000.,  919000., 1628000., 2337000., 3046000., 3755000.,\n",
       "        4464000., 5173000., 5882000., 6591000., 7300000.]),\n",
       " <BarContainer object of 10 artists>)"
      ]
     },
     "execution_count": 8,
     "metadata": {},
     "output_type": "execute_result"
    },
    {
     "data": {
      "image/png": "[encoded data removed]",
      "text/plain": [
       "<Figure size 1440x1440 with 5 Axes>"
      ]
     },
     "metadata": {
      "needs_background": "light"
     },
     "output_type": "display_data"
    }
   ],
   "source": [
    "# Create plots and add titles\n",
    "\n",
    "# Set the plot size (3 rows and 2 columns)\n",
    "fig, axes = plt.subplots(nrows=3, ncols=2,figsize=(20,20))\n",
    "\n",
    "# 1 bedroom:\n",
    "axes[0][0].hist(df_1['price'])\n",
    "axes[0][0].title.set_text('1 bedroom price histogram')\n",
    "\n",
    "# 2 bedroom:\n",
    "axes[0][1].hist(df_2['price'])\n",
    "axes[0][1].title.set_text('2 bedroom price histogram')\n",
    "\n",
    "# 3 bedroom:\n",
    "axes[1][0].hist(df_3['price'])\n",
    "axes[1][0].title.set_text('3 bedroom price histogram')\n",
    "\n",
    "# 4 bedroom\n",
    "axes[1][1].hist(df_4['price'])\n",
    "axes[1][1].title.set_text('4 bedroom price histogram')\n",
    "\n",
    "# 5 bedroom:\n",
    "axes[2][0].hist(df_5['price'])\n",
    "axes[2][0].title.set_text('5 bedroom price histogram')\n",
    "\n",
    "fig.delaxes(axes[2][1])\n",
    "\n",
    "plt.show()"
   ]
  },
  {
   "cell_type": "code",
   "execution_count": 9,
   "id": "d8fce314-e2fd-4bdb-ab56-6d091308a8c8",
   "metadata": {},
   "outputs": [
    {
     "data": {
      "image/png": "[encoded data removed]",
      "text/plain": [
       "<Figure size 1296x288 with 1 Axes>"
      ]
     },
     "metadata": {
      "needs_background": "light"
     },
     "output_type": "display_data"
    }
   ],
   "source": [
    "# Create a boxplot for 1 bedroom.\n",
    "# Set figure size.\n",
    "fig = plt.figure(figsize=(18, 4))\n",
    "\n",
    "# Create a boxplot.\n",
    "ax = sns.boxplot(x=df_1['price'], whis=1.5)\n",
    "\n",
    "# Next we will remove the outliers"
   ]
  },
  {
   "cell_type": "code",
   "execution_count": 10,
   "id": "5377efd7-19a5-4c35-ad0e-b856a2884853",
   "metadata": {},
   "outputs": [],
   "source": [
    "# create variable with a list of the columns where we want to remove the outliers\n",
    "cols = ['price'] "
   ]
  },
  {
   "cell_type": "code",
   "execution_count": 11,
   "id": "17ca073c-ad27-4013-b9ba-d28f8e3cd7f7",
   "metadata": {},
   "outputs": [
    {
     "name": "stdout",
     "output_type": "stream",
     "text": [
      "price    280000.0\n",
      "Name: 0.25, dtype: float64\n",
      "price    380250.0\n",
      "Name: 0.75, dtype: float64\n"
     ]
    }
   ],
   "source": [
    "# Calculate quantiles and IQR.\n",
    "# Same as np.percentile but maps (0,1) and not (0,100).\n",
    "\n",
    "Q1 = df_1[cols].quantile(0.25)\n",
    "print(Q1) # print the value to better understand the output\n",
    "\n",
    "Q3 = df_1[cols].quantile(0.75)\n",
    "print(Q3) # print the value to better understand the output"
   ]
  },
  {
   "cell_type": "code",
   "execution_count": 12,
   "id": "160f2205-de6f-4784-a464-ebc0e0d0c8b2",
   "metadata": {},
   "outputs": [
    {
     "data": {
      "text/plain": [
       "price    100250.0\n",
       "dtype: float64"
      ]
     },
     "execution_count": 12,
     "metadata": {},
     "output_type": "execute_result"
    }
   ],
   "source": [
    "# Determine the interquartile range\n",
    "IQR = Q3 - Q1\n",
    "IQR # Print"
   ]
  },
  {
   "cell_type": "code",
   "execution_count": 13,
   "id": "e9261114-e9fd-4116-8ac0-26c7b5441bf3",
   "metadata": {},
   "outputs": [],
   "source": [
    "# Return a Boolean array of the rows with (any) non-outlier column values.\n",
    "# Identify smaller than and larger than and then invert to obtain only the values to retain\n",
    "condition = ~((df_1[cols] < (Q1 - 1.5 * IQR)) | (df_1[cols] > (Q3 + 1.5 * IQR))).any(axis=1)\n",
    "# ~ bitwise operator, or use np.invert(condition)"
   ]
  },
  {
   "cell_type": "code",
   "execution_count": 14,
   "id": "1e4547f1-e7ff-4b30-a3b6-a0305dc36f26",
   "metadata": {},
   "outputs": [
    {
     "data": {
      "text/plain": [
       "datesold\n",
       "2007-07-08     True\n",
       "2007-10-15     True\n",
       "2007-10-25     True\n",
       "2007-11-29     True\n",
       "2008-01-23     True\n",
       "              ...  \n",
       "2019-07-23     True\n",
       "2019-07-24    False\n",
       "2019-07-25     True\n",
       "2019-07-25     True\n",
       "2019-07-25     True\n",
       "Length: 1627, dtype: bool"
      ]
     },
     "execution_count": 14,
     "metadata": {},
     "output_type": "execute_result"
    }
   ],
   "source": [
    "# Review the mask (what is included)\n",
    "condition"
   ]
  },
  {
   "cell_type": "code",
   "execution_count": 15,
   "id": "142d5be2-9a70-46b9-94f0-c487926eea97",
   "metadata": {},
   "outputs": [
    {
     "data": {
      "text/plain": [
       "datesold\n",
       "2007-07-08    False\n",
       "2007-10-15    False\n",
       "2007-10-25    False\n",
       "2007-11-29    False\n",
       "2008-01-23    False\n",
       "              ...  \n",
       "2019-07-23    False\n",
       "2019-07-24     True\n",
       "2019-07-25    False\n",
       "2019-07-25    False\n",
       "2019-07-25    False\n",
       "Length: 1627, dtype: bool"
      ]
     },
     "execution_count": 15,
     "metadata": {},
     "output_type": "execute_result"
    }
   ],
   "source": [
    "# Take a look at the inverted mask (original output prior to inverting above)\n",
    "~condition"
   ]
  },
  {
   "cell_type": "code",
   "execution_count": 16,
   "id": "2de00296-4ce3-47a8-b890-fedee221f0c0",
   "metadata": {},
   "outputs": [
    {
     "data": {
      "text/plain": [
       "(1592, 4)"
      ]
     },
     "execution_count": 16,
     "metadata": {},
     "output_type": "execute_result"
    }
   ],
   "source": [
    "# Filter our DataFrame based on condition. (Return only the values where the mask = True)\n",
    "df_1_non_outlier = df_1[condition]\n",
    "df_1_non_outlier.shape"
   ]
  },
  {
   "cell_type": "code",
   "execution_count": 17,
   "id": "a7725a7e-a151-4cc8-adf1-d55070edd499",
   "metadata": {},
   "outputs": [
    {
     "data": {
      "image/png": "[encoded data removed]",
      "text/plain": [
       "<Figure size 864x144 with 1 Axes>"
      ]
     },
     "metadata": {
      "needs_background": "light"
     },
     "output_type": "display_data"
    }
   ],
   "source": [
    "# Plot to see if outliers have been removed: \n",
    "# whis=multiplicative factor.\n",
    "fig = plt.subplots(figsize=(12, 2))\n",
    "\n",
    "ax = sns.boxplot(x=df_1_non_outlier['price'],whis=1.5)"
   ]
  },
  {
   "cell_type": "code",
   "execution_count": null,
   "id": "dcb67493-5550-413f-b093-a55ca5748f4f",
   "metadata": {},
   "outputs": [],
   "source": []
  },
  {
   "cell_type": "markdown",
   "id": "e0d148f0-2a6f-4cd5-a281-1d23cf1e508a",
   "metadata": {},
   "source": [
    "### Other observations\n",
    "- Teams\n",
    "- Organisations\n",
    "- Continious improvement\n",
    "- Version control\n",
    "- Data governance, data protection and data ethics\n",
    "- Algorithms and algorithmic bias\n",
    "- Making recommendations (including change management and effective delivery of your message)"
   ]
  },
  {
   "cell_type": "markdown",
   "id": "2db0ac2d-a798-4828-b98b-b5695e6ce1ea",
   "metadata": {},
   "source": [
    "#### Simple (Linear Regression)\n",
    "- https://towardsdatascience.com/linear-regression-in-6-lines-of-python-5e1d0cd05b8d"
   ]
  },
  {
   "cell_type": "code",
   "execution_count": 18,
   "id": "b1a30b42-4a88-4433-b54e-ea7e2ade2ecd",
   "metadata": {},
   "outputs": [],
   "source": [
    "#pip install scikit-learn\n",
    "import numpy as np\n",
    "import matplotlib.pyplot as plt  # To visualize\n",
    "import pandas as pd  # To read data\n",
    "from sklearn.linear_model import LinearRegression"
   ]
  },
  {
   "cell_type": "code",
   "execution_count": 19,
   "id": "17ecdc5d-4f78-4200-ae9d-64f3be8d156e",
   "metadata": {},
   "outputs": [
    {
     "data": {
      "text/plain": [
       "LinearRegression()"
      ]
     },
     "execution_count": 19,
     "metadata": {},
     "output_type": "execute_result"
    }
   ],
   "source": [
    "data2 = pd.read_csv('data_d.csv')  # load data set\n",
    "X = data2.iloc[:, 0].values.reshape(-1, 1)  # values converts it into a numpy array\n",
    "Y = data2.iloc[:, 1].values.reshape(-1, 1)  # -1 means that calculate the dimension of rows, but have 1 column\n",
    "linear_regressor = LinearRegression()  # create object for the class\n",
    "linear_regressor.fit(X, Y)  # perform linear regression\n",
    "Y_pred = linear_regressor.predict(X)  # make predictions"
   ]
  },
  {
   "cell_type": "code",
   "execution_count": 20,
   "id": "0da26a0b-8030-46f5-8915-e4a58bed4a31",
   "metadata": {},
   "outputs": [
    {
     "data": {
      "text/html": [
       "<div>\n",
       "<style scoped>\n",
       "    .dataframe tbody tr th:only-of-type {\n",
       "        vertical-align: middle;\n",
       "    }\n",
       "\n",
       "    .dataframe tbody tr th {\n",
       "        vertical-align: top;\n",
       "    }\n",
       "\n",
       "    .dataframe thead th {\n",
       "        text-align: right;\n",
       "    }\n",
       "</style>\n",
       "<table border=\"1\" class=\"dataframe\">\n",
       "  <thead>\n",
       "    <tr style=\"text-align: right;\">\n",
       "      <th></th>\n",
       "      <th>32.502345269453031</th>\n",
       "      <th>31.70700584656992</th>\n",
       "    </tr>\n",
       "  </thead>\n",
       "  <tbody>\n",
       "    <tr>\n",
       "      <th>0</th>\n",
       "      <td>53.426804</td>\n",
       "      <td>68.777596</td>\n",
       "    </tr>\n",
       "    <tr>\n",
       "      <th>1</th>\n",
       "      <td>61.530358</td>\n",
       "      <td>62.562382</td>\n",
       "    </tr>\n",
       "    <tr>\n",
       "      <th>2</th>\n",
       "      <td>47.475640</td>\n",
       "      <td>71.546632</td>\n",
       "    </tr>\n",
       "    <tr>\n",
       "      <th>3</th>\n",
       "      <td>59.813208</td>\n",
       "      <td>87.230925</td>\n",
       "    </tr>\n",
       "    <tr>\n",
       "      <th>4</th>\n",
       "      <td>55.142188</td>\n",
       "      <td>78.211518</td>\n",
       "    </tr>\n",
       "    <tr>\n",
       "      <th>...</th>\n",
       "      <td>...</td>\n",
       "      <td>...</td>\n",
       "    </tr>\n",
       "    <tr>\n",
       "      <th>94</th>\n",
       "      <td>50.030174</td>\n",
       "      <td>81.536991</td>\n",
       "    </tr>\n",
       "    <tr>\n",
       "      <th>95</th>\n",
       "      <td>49.239765</td>\n",
       "      <td>72.111832</td>\n",
       "    </tr>\n",
       "    <tr>\n",
       "      <th>96</th>\n",
       "      <td>50.039576</td>\n",
       "      <td>85.232007</td>\n",
       "    </tr>\n",
       "    <tr>\n",
       "      <th>97</th>\n",
       "      <td>48.149859</td>\n",
       "      <td>66.224958</td>\n",
       "    </tr>\n",
       "    <tr>\n",
       "      <th>98</th>\n",
       "      <td>25.128485</td>\n",
       "      <td>53.454394</td>\n",
       "    </tr>\n",
       "  </tbody>\n",
       "</table>\n",
       "<p>99 rows × 2 columns</p>\n",
       "</div>"
      ],
      "text/plain": [
       "    32.502345269453031  31.70700584656992\n",
       "0            53.426804          68.777596\n",
       "1            61.530358          62.562382\n",
       "2            47.475640          71.546632\n",
       "3            59.813208          87.230925\n",
       "4            55.142188          78.211518\n",
       "..                 ...                ...\n",
       "94           50.030174          81.536991\n",
       "95           49.239765          72.111832\n",
       "96           50.039576          85.232007\n",
       "97           48.149859          66.224958\n",
       "98           25.128485          53.454394\n",
       "\n",
       "[99 rows x 2 columns]"
      ]
     },
     "execution_count": 20,
     "metadata": {},
     "output_type": "execute_result"
    }
   ],
   "source": [
    "data2"
   ]
  },
  {
   "cell_type": "code",
   "execution_count": 21,
   "id": "438de8da-a823-4702-a236-933534c90fca",
   "metadata": {},
   "outputs": [
    {
     "data": {
      "text/plain": [
       "<matplotlib.collections.PathCollection at 0x14fa2f700>"
      ]
     },
     "execution_count": 21,
     "metadata": {},
     "output_type": "execute_result"
    },
    {
     "data": {
      "text/plain": [
       "[<matplotlib.lines.Line2D at 0x14fa2fbe0>]"
      ]
     },
     "execution_count": 21,
     "metadata": {},
     "output_type": "execute_result"
    },
    {
     "data": {
      "image/png": "[encoded data removed]",
      "text/plain": [
       "<Figure size 432x288 with 1 Axes>"
      ]
     },
     "metadata": {
      "needs_background": "light"
     },
     "output_type": "display_data"
    }
   ],
   "source": [
    "plt.scatter(X, Y)\n",
    "plt.plot(X, Y_pred, color='red')\n",
    "plt.show()"
   ]
  },
  {
   "cell_type": "markdown",
   "id": "204b0460-3e5b-4f5d-b7b9-82ef48270803",
   "metadata": {},
   "source": [
    "### Additional reading\n",
    "\n",
    "#### Worthwhile to explore in more detail\n",
    "- https://machinelearningmastery.com/implement-simple-linear-regression-scratch-python/\n",
    "- https://machinelearningmastery.com/types-of-classification-in-machine-learning/\n",
    "- https://machinelearningmastery.com/machine-learning-in-python-step-by-step/"
   ]
  },
  {
   "cell_type": "code",
   "execution_count": null,
   "id": "ac4f19b0-428e-437c-82a6-9e7e8b8a1c2b",
   "metadata": {},
   "outputs": [],
   "source": []
  }
 ],
 "metadata": {
  "kernelspec": {
   "display_name": "gs",
   "language": "python",
   "name": "gs"
  },
  "language_info": {
   "codemirror_mode": {
    "name": "ipython",
    "version": 3
   },
   "file_extension": ".py",
   "mimetype": "text/x-python",
   "name": "python",
   "nbconvert_exporter": "python",
   "pygments_lexer": "ipython3",
   "version": "3.8.6"
  }
 },
 "nbformat": 4,
 "nbformat_minor": 5
}
