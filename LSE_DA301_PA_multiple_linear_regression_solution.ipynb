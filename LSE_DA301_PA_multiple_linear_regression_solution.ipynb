{
 "cells": [
  {
   "cell_type": "markdown",
   "id": "94199fa3",
   "metadata": {},
   "source": [
    "### LSE Data Analytics Online Career Accelerator \n",
    "# Course 301: Data Analytics with Python"
   ]
  },
  {
   "cell_type": "markdown",
   "id": "46fcc342",
   "metadata": {},
   "source": [
    "## Practical activity: Conducting multiple linear regression using Python"
   ]
  },
  {
   "cell_type": "markdown",
   "id": "26969258",
   "metadata": {},
   "source": [
    "**This is the solution to the activity.**\n",
    "\n",
    "In MLR you are adding another variable (or two or three or more!) to the calculation when you run your regression. Most likely, in the real world, you’ll have more than two variables to deal with, so MLR allows you to handle this and find predictive results that can help your business grow. This activity will build on the simple linear regression practical exercise from earlier, but this time, there will be another variable to work with. \n",
    "\n",
    "The main objective is to run multiple linear regression on three variables to predict future median business values. You’ll need to divide the data into training and testing subsets and use these to test the model with OLS. You’ll also check for multicollinearity and homoscedasticity. "
   ]
  },
  {
   "cell_type": "markdown",
   "id": "e0ec3ed0",
   "metadata": {},
   "source": [
    "## 1. Prepare your workstation"
   ]
  },
  {
   "cell_type": "code",
   "execution_count": null,
   "id": "19b7bc2c",
   "metadata": {},
   "outputs": [],
   "source": [
    "#import all the necessary packages\n",
    "import numpy as np\n",
    "import pandas as pd\n",
    "import statsmodels.api as sm\n",
    "import statsmodels.stats.api as sms\n",
    "import sklearn\n",
    "import matplotlib.pyplot as plt\n",
    "\n",
    "from sklearn import datasets \n",
    "from sklearn import linear_model\n",
    "from statsmodels.stats.outliers_influence import variance_inflation_factor\n",
    "from sklearn.model_selection import train_test_split\n",
    "from sklearn import metrics\n",
    "from sklearn.linear_model import LinearRegression\n",
    "from statsmodels.formula.api import ols"
   ]
  },
  {
   "cell_type": "markdown",
   "id": "8a657692",
   "metadata": {},
   "source": [
    "## 2. Import data set"
   ]
  },
  {
   "cell_type": "code",
   "execution_count": null,
   "id": "78df595c",
   "metadata": {},
   "outputs": [],
   "source": [
    "df_ecom = pd.read_csv('Ecommerce_data.csv')\n",
    "\n",
    "df_ecom"
   ]
  },
  {
   "cell_type": "code",
   "execution_count": null,
   "id": "24a6103b",
   "metadata": {},
   "outputs": [],
   "source": [
    "# view DataFrame\n",
    "df_ecom.info()"
   ]
  },
  {
   "cell_type": "markdown",
   "id": "a2b6ccab",
   "metadata": {},
   "source": [
    "## 3 Define variables"
   ]
  },
  {
   "cell_type": "code",
   "execution_count": null,
   "id": "d95605e9",
   "metadata": {},
   "outputs": [],
   "source": [
    "# dependent variable\n",
    "y = df_ecom['Median_s'] \n",
    "\n",
    "# independent variable\n",
    "X = df_ecom[['avg_no_it', 'tax']] "
   ]
  },
  {
   "cell_type": "code",
   "execution_count": null,
   "id": "c9cbe0b9",
   "metadata": {},
   "outputs": [],
   "source": [
    "# create train and test data sets\n",
    "x_train, x_test, y_train, y_test = train_test_split(X, y, test_size=0.2, random_state=5)"
   ]
  },
  {
   "cell_type": "code",
   "execution_count": null,
   "id": "3f295fd0",
   "metadata": {},
   "outputs": [],
   "source": [
    "multi = LinearRegression()  \n",
    "multi.fit(x_train, y_train)"
   ]
  },
  {
   "cell_type": "code",
   "execution_count": null,
   "id": "602cd223",
   "metadata": {
    "scrolled": true
   },
   "outputs": [],
   "source": [
    "multi.predict(x_train)"
   ]
  },
  {
   "cell_type": "code",
   "execution_count": null,
   "id": "bc1d28f9",
   "metadata": {},
   "outputs": [],
   "source": [
    "# Checking the value of R-squared, intercept and coefficients\n",
    "print(\"R-squared: \", multi.score(x_train, y_train))\n",
    "print(\"Intercept: \", multi.intercept_)\n",
    "print(\"Coefficients:\")\n",
    "list(zip(x_train, multi.coef_))"
   ]
  },
  {
   "cell_type": "code",
   "execution_count": null,
   "id": "0ce6d207",
   "metadata": {},
   "outputs": [],
   "source": [
    "# make predictions\n",
    "New_Value1 = 5.75\n",
    "New_Value2 = 15.2\n",
    "print ('Predicted Value: \\n', multi.predict([[New_Value1 ,New_Value2]]))  "
   ]
  },
  {
   "cell_type": "markdown",
   "id": "965439bd",
   "metadata": {},
   "source": [
    "## 4. Training and testing subsets with MLR"
   ]
  },
  {
   "cell_type": "code",
   "execution_count": null,
   "id": "861dabc2",
   "metadata": {},
   "outputs": [],
   "source": [
    "model = sm.OLS(y_train, sm.add_constant(x_train)).fit()\n",
    "Y_pred = model.predict(sm.add_constant(x_train))\n",
    "print_model = model.summary()\n",
    "\n",
    "print(print_model)"
   ]
  },
  {
   "cell_type": "code",
   "execution_count": null,
   "id": "ab30e73f",
   "metadata": {},
   "outputs": [],
   "source": [
    "print(multi.score(x_train,y_train)*100)"
   ]
  },
  {
   "cell_type": "markdown",
   "id": "8ea232d4",
   "metadata": {},
   "source": [
    "## 4. Check the model with OLS"
   ]
  },
  {
   "cell_type": "code",
   "execution_count": null,
   "id": "35104399",
   "metadata": {},
   "outputs": [],
   "source": [
    "# run regression on the train subset\n",
    "mlr = LinearRegression()  \n",
    "mlr.fit(x_train, y_train)"
   ]
  },
  {
   "cell_type": "code",
   "execution_count": null,
   "id": "17474545",
   "metadata": {},
   "outputs": [],
   "source": [
    "model = sm.OLS(y_train, sm.add_constant(x_train)).fit()\n",
    "Y_pred = model.predict(sm.add_constant(x_train))\n",
    "print_model = model.summary()\n",
    "print(print_model)"
   ]
  },
  {
   "cell_type": "code",
   "execution_count": null,
   "id": "1ace3e75",
   "metadata": {},
   "outputs": [],
   "source": [
    "y_pred_mlr= mlr.predict(x_train)\n",
    "print(\"Prediction for test set: {}\".format(y_pred_mlr))"
   ]
  },
  {
   "cell_type": "code",
   "execution_count": null,
   "id": "bdd6df28",
   "metadata": {},
   "outputs": [],
   "source": [
    "print(mlr.score(x_train,y_train)*100)"
   ]
  },
  {
   "cell_type": "code",
   "execution_count": null,
   "id": "4573230d",
   "metadata": {},
   "outputs": [],
   "source": [
    "meanAbErr = metrics.mean_absolute_error(y_train, y_pred_mlr)\n",
    "meanSqErr = metrics.mean_squared_error(y_train, y_pred_mlr)\n",
    "\n",
    "print('R squared: {:.2f}'.format(mlr.score(X,y)*100))\n",
    "print('Mean Absolute Error:', meanAbErr)\n",
    "print('Mean Square Error:', meanSqErr)"
   ]
  },
  {
   "cell_type": "code",
   "execution_count": null,
   "id": "4e13f51e",
   "metadata": {},
   "outputs": [],
   "source": [
    "New_Value1 = 5.75\n",
    "New_Value2 = 15.2\n",
    "print ('Predicted Value: \\n', mlr.predict([[New_Value1 ,New_Value2]])) "
   ]
  },
  {
   "cell_type": "code",
   "execution_count": null,
   "id": "91d58b3b",
   "metadata": {},
   "outputs": [],
   "source": [
    "# check multicollinearity\n",
    "x_temp = sm.add_constant(x_train)# multicollinearity\n",
    "\n",
    "vif = pd.DataFrame()\n",
    "vif[\"VIF Factor\"] = [variance_inflation_factor(x_temp.values, i) for i in range(x_temp.values.shape[1])]\n",
    "vif[\"features\"] = x_temp.columns\n",
    "print(vif.round(1))"
   ]
  },
  {
   "cell_type": "code",
   "execution_count": null,
   "id": "52d60fc8",
   "metadata": {},
   "outputs": [],
   "source": [
    "model = sms.het_breuschpagan(model.resid, model.model.exog) # heteroscedasticity"
   ]
  },
  {
   "cell_type": "code",
   "execution_count": null,
   "id": "c945280e",
   "metadata": {},
   "outputs": [],
   "source": [
    "terms = ['LM stat', 'LM Test p-value', 'F-stat', 'F-test p-value']\n",
    "print(dict(zip(terms, model)))"
   ]
  },
  {
   "cell_type": "markdown",
   "id": "f54ddd2d",
   "metadata": {},
   "source": [
    "`Note:` We always fit the model to train data and evaluate the performance of the model using the test data. We predict the test data and compare the predictions with actual test values.\n",
    "- rerun the model on the test data and jot down your observation."
   ]
  },
  {
   "cell_type": "code",
   "execution_count": null,
   "id": "5c45f5d1",
   "metadata": {},
   "outputs": [],
   "source": []
  }
 ],
 "metadata": {
  "kernelspec": {
   "display_name": "Python 3 (ipykernel)",
   "language": "python",
   "name": "python3"
  },
  "language_info": {
   "codemirror_mode": {
    "name": "ipython",
    "version": 3
   },
   "file_extension": ".py",
   "mimetype": "text/x-python",
   "name": "python",
   "nbconvert_exporter": "python",
   "pygments_lexer": "ipython3",
   "version": "3.9.12"
  }
 },
 "nbformat": 4,
 "nbformat_minor": 5
}
