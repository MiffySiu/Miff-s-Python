{
 "cells": [
  {
   "cell_type": "markdown",
   "id": "94199fa3",
   "metadata": {},
   "source": [
    "### LSE Data Analytics Online Career Accelerator \n",
    "# Course 301: Data Analytics with Python"
   ]
  },
  {
   "cell_type": "markdown",
   "id": "46fcc342",
   "metadata": {},
   "source": [
    "## Practical activity: Completing a what-if scenario analysis"
   ]
  },
  {
   "cell_type": "markdown",
   "id": "26969258",
   "metadata": {},
   "source": [
    "**This is the solution to the activity.**\n",
    "\n",
    "You’re working at a financial analysis firm that specialises in risk management to support clients' stock trading. To help a client make an investment decision, you have been asked to run return-on-investment (ROI) scenarios. The client asks for ROI on their investment over the next six years, and you have been given the following inputs:\n",
    "- Number of shares: 500\n",
    "- Buying price per share: 10\n",
    "- Annual dividends: 500\n",
    "- Selling price: 15\n",
    "- Other annual costs: 125\n",
    "- Target annualised ROI: 7.5% \n",
    "- Annualised ROI = [(1+〖ROI)〗^(1/n)-1] ×100%\n",
    "\n",
    "Using these inputs, you need to calculate ROI for the five years that the investor intends to hold on to their stock, and then run a what-if analysis using different values as inputs to mimic a good or bad economy for the client’s investment."
   ]
  },
  {
   "cell_type": "markdown",
   "id": "e0ec3ed0",
   "metadata": {},
   "source": [
    "## 1. Prepare your workstation"
   ]
  },
  {
   "cell_type": "code",
   "execution_count": null,
   "id": "19b7bc2c",
   "metadata": {},
   "outputs": [],
   "source": [
    "# import the necessary libraries\n",
    "import pandas as pd\n",
    "import random\n",
    "%matplotlib inline\n",
    "from dataclasses import dataclass\n",
    "from sensitivity import SensitivityAnalyzer\n",
    "\n",
    "import warnings\n",
    "warnings.simplefilter(action='ignore', category=FutureWarning)"
   ]
  },
  {
   "cell_type": "markdown",
   "id": "8a657692",
   "metadata": {},
   "source": [
    "## 2. Specify the model inputs and create a class"
   ]
  },
  {
   "cell_type": "code",
   "execution_count": null,
   "id": "78df595c",
   "metadata": {},
   "outputs": [],
   "source": [
    "# create a class and instance\n",
    "@dataclass\n",
    "class ModelInputs:\n",
    "    share_no : int = 500\n",
    "    buying_price: int = 10\n",
    "    dividend: int = 500\n",
    "    selling_price: int = 15\n",
    "    costs: int = 125\n",
    "        \n",
    "model_data = ModelInputs()\n",
    "model_data"
   ]
  },
  {
   "cell_type": "markdown",
   "id": "a2b6ccab",
   "metadata": {},
   "source": [
    "## 3. Create a function to calculate ROI"
   ]
  },
  {
   "cell_type": "code",
   "execution_count": null,
   "id": "d95605e9",
   "metadata": {},
   "outputs": [],
   "source": [
    "# Function to calculate ROI : \n",
    "def roi_per_year(data: ModelInputs):\n",
    "    year = 0\n",
    "    prior_roi = 0\n",
    "    \n",
    "    while year < 6:\n",
    "        year = year + 1\n",
    "        # print(year)\n",
    "        net_return = (data.selling_price - data.buying_price)\\\n",
    "        * data.share_no + data.dividend - data.costs\n",
    "        cost_of_investment = data.buying_price * data.share_no\n",
    "\n",
    "        roi = prior_roi + ((net_return)/(cost_of_investment))*100\n",
    "        print(f'The ROI at year {year} is {roi:,.0f}%.')\n",
    "        \n",
    "        prior_roi = roi\n",
    "        \n",
    "    return roi\n",
    "\n",
    "# view output\n",
    "roi_per_year(model_data)"
   ]
  },
  {
   "cell_type": "code",
   "execution_count": null,
   "id": "a961795a",
   "metadata": {},
   "outputs": [],
   "source": [
    "# Function to create a DataFrame as df: \n",
    "def roi_per_year_df(data: ModelInputs):\n",
    "    year = 0\n",
    "    prior_roi = 0\n",
    "    df_data_tups = []\n",
    "    \n",
    "    for year in range(6):\n",
    "        year = year + 1\n",
    "        net_return = (data.selling_price - data.buying_price)\\\n",
    "        * data.share_no + data.dividend - data.costs\n",
    "        cost_of_investment = data.buying_price * data.share_no\n",
    "        roi = prior_roi + ((net_return)/(cost_of_investment))*100\n",
    "        # print(f'The ROI at year {year} is {roi:,.0f}%.')\n",
    "        \n",
    "        prior_roi = roi \n",
    "        # Save the results in a tuple for later building the DataFrame\n",
    "        df_data_tups.append((year, roi))\n",
    "        # Now create the DataFrame\n",
    "        df = pd.DataFrame(df_data_tups, columns=['Year', 'ROI in %'])\n",
    "        \n",
    "    return df\n",
    "\n",
    "# view DataFrame\n",
    "roi_per_year_df(model_data)"
   ]
  },
  {
   "cell_type": "markdown",
   "id": "064f0d3a",
   "metadata": {},
   "source": [
    "## 4. Create a function to show ROI for each year and a single year"
   ]
  },
  {
   "cell_type": "code",
   "execution_count": null,
   "id": "2ca445d8",
   "metadata": {},
   "outputs": [],
   "source": [
    "# Function to give annual ROI for each year : \n",
    "def annualized_roi_per_year(data: ModelInputs):\n",
    "    year = 0\n",
    "    prior_roi = 0\n",
    "\n",
    "    for year in range(6):\n",
    "        year = year + 1\n",
    "        # print(year)\n",
    "        net_return = (data.selling_price - data.buying_price)\\\n",
    "        * data.share_no + data.dividend - data.costs\n",
    "        cost_of_investment = data.buying_price * data.share_no\n",
    "        roi = prior_roi + ((net_return)/(cost_of_investment))*100 \n",
    "        print(f\"ROI :{roi}\")\n",
    "        \n",
    "        # annual_roi = [((1 + (roi/100))**(1/year)-1)*100]\n",
    "        annual_roi = ((1 + (roi/100))**(1/year)-1)*100\n",
    "        print(f'The annualized ROI at year {year} is {annual_roi}%.')\n",
    "        prior_roi = roi \n",
    "        \n",
    "    return annual_roi\n",
    "\n",
    "# view output\n",
    "annualized_roi_per_year(model_data)"
   ]
  },
  {
   "cell_type": "code",
   "execution_count": null,
   "id": "735bfc60",
   "metadata": {},
   "outputs": [],
   "source": [
    "# Function to return annualized ROI for a single year : \n",
    "def anl_roi_per_year(data: ModelInputs, print_output=True):\n",
    "    year = 0\n",
    "    prior_roi = 0\n",
    "    \n",
    "    if print_output:\n",
    "        # \\n makes a blank line in the output.\n",
    "        print('Anuual ROI over time:') \n",
    "        \n",
    "    while year < 10:\n",
    "        year = year + 1\n",
    "        net_return = (data.selling_price - data.buying_price)\\\n",
    "        * data.share_no + data.dividend - data.costs\n",
    "        cost_of_investment = data.buying_price * data.share_no\n",
    "        \n",
    "        # Cost of investment is simply the buying price of each \n",
    "        # share multiplied by the number of shares purchased, \n",
    "        # eg. 10 shares at $5 means the cost of investment is $50.\n",
    "        roi = prior_roi + ((net_return)/(cost_of_investment))*100\n",
    "        print(f\"roi :{roi}\")\n",
    "        \n",
    "        anl_roi = ((1 + (roi/100))**(1/year)-1)*100\n",
    "        \n",
    "        return anl_roi\n",
    "    \n",
    "# view output\n",
    "anl_roi_per_year(model_data)"
   ]
  },
  {
   "cell_type": "markdown",
   "id": "6713f3aa",
   "metadata": {},
   "source": [
    "## 5. Run the model based on some changes\n",
    "* a.    Initial investment increases by 10% and decreases by 10%.\n",
    "* b.    Buying price per share increases by 15% and decreases by 10%.\n",
    "* c.    Selling price per share increases by 20% and decreases by 15%.\n",
    "* d.    Annual dividend increases by 25% and decreases by 20%. "
   ]
  },
  {
   "cell_type": "markdown",
   "id": "42e6de6b",
   "metadata": {},
   "source": [
    "### a)    Initial investment increases by 10% and decreases by 10%."
   ]
  },
  {
   "cell_type": "code",
   "execution_count": null,
   "id": "f97c1ddd",
   "metadata": {},
   "outputs": [],
   "source": [
    "# investment = buying price * share \n",
    "# NOTE : Assuming that instead of investment, the variable to be used is share no."
   ]
  },
  {
   "cell_type": "code",
   "execution_count": null,
   "id": "2fdc00a4",
   "metadata": {},
   "outputs": [],
   "source": [
    "# Buying Share per share increases by 10%\n",
    "@dataclass\n",
    "class ModelInputs:\n",
    "    share_no : int = 550\n",
    "    buying_price: int = 11.5\n",
    "    dividend: int = 500\n",
    "    selling_price: int = 15\n",
    "    costs: int = 125\n",
    "        \n",
    "model_data = ModelInputs()\n",
    "model_data\n",
    "\n",
    "roi_per_year(model_data)"
   ]
  },
  {
   "cell_type": "code",
   "execution_count": null,
   "id": "d98a8929",
   "metadata": {},
   "outputs": [],
   "source": [
    "# Buying Share per share decreases by 10%\n",
    "@dataclass\n",
    "class ModelInputs:\n",
    "    share_no : int = 450\n",
    "    buying_price: int = 11.5\n",
    "    dividend: int = 500\n",
    "    selling_price: int = 15\n",
    "    costs: int = 125\n",
    "        \n",
    "model_data = ModelInputs()\n",
    "model_data\n",
    "\n",
    "roi_per_year(model_data)"
   ]
  },
  {
   "cell_type": "markdown",
   "id": "7892748f",
   "metadata": {},
   "source": [
    "### b) Buying price per share increases by 15% and decreases by 10%"
   ]
  },
  {
   "cell_type": "code",
   "execution_count": null,
   "id": "693bb95c",
   "metadata": {},
   "outputs": [],
   "source": [
    "# Buying price per share increases by 15%\n",
    "@dataclass\n",
    "class ModelInputs:\n",
    "    share_no : int = 500\n",
    "    buying_price: int = 11.5\n",
    "    dividend: int = 500\n",
    "    selling_price: int = 15\n",
    "    costs: int = 125\n",
    "        \n",
    "model_data = ModelInputs()\n",
    "model_data\n",
    "\n",
    "roi_per_year(model_data)"
   ]
  },
  {
   "cell_type": "code",
   "execution_count": null,
   "id": "5d8ff64b",
   "metadata": {},
   "outputs": [],
   "source": [
    "# Buying price per share decreases by 15%\n",
    "@dataclass\n",
    "class ModelInputs:\n",
    "    share_no : int = 500\n",
    "    buying_price: int = 8.5\n",
    "    dividend: int = 500\n",
    "    selling_price: int = 15\n",
    "    costs: int = 125\n",
    "        \n",
    "model_data = ModelInputs()\n",
    "model_data\n",
    "\n",
    "roi_per_year(model_data)"
   ]
  },
  {
   "cell_type": "markdown",
   "id": "cf9807a7",
   "metadata": {},
   "source": [
    "### c) Selling price per share increases by 20% and decreases by 15%."
   ]
  },
  {
   "cell_type": "code",
   "execution_count": null,
   "id": "41af9809",
   "metadata": {},
   "outputs": [],
   "source": [
    "# Selling price per share increases by 20%\n",
    "@dataclass\n",
    "class ModelInputs:\n",
    "    share_no : int = 500\n",
    "    buying_price: int = 10\n",
    "    dividend: int = 500\n",
    "    selling_price: int = 18\n",
    "    costs: int = 125\n",
    "        \n",
    "model_data = ModelInputs()\n",
    "model_data\n",
    "\n",
    "roi_per_year(model_data)"
   ]
  },
  {
   "cell_type": "code",
   "execution_count": null,
   "id": "d36686fe",
   "metadata": {},
   "outputs": [],
   "source": [
    "# Selling price per share decreases by 20%\n",
    "@dataclass\n",
    "class ModelInputs:\n",
    "    share_no : int = 500\n",
    "    buying_price: int = 10\n",
    "    dividend: int = 500\n",
    "    selling_price: int = 12\n",
    "    costs: int = 125\n",
    "        \n",
    "model_data = ModelInputs()\n",
    "model_data\n",
    "\n",
    "roi_per_year(model_data)"
   ]
  },
  {
   "cell_type": "markdown",
   "id": "86a60d8a",
   "metadata": {},
   "source": [
    "### d) Annual dividend increases by 25% and decreases by 20%."
   ]
  },
  {
   "cell_type": "code",
   "execution_count": null,
   "id": "7547be6a",
   "metadata": {},
   "outputs": [],
   "source": [
    "#  Annual dividend increases by 25%\n",
    "@dataclass\n",
    "class ModelInputs:\n",
    "    share_no : int = 500\n",
    "    buying_price: int = 10\n",
    "    dividend: int = 502.5\n",
    "    selling_price: int = 15\n",
    "    costs: int = 125\n",
    "        \n",
    "model_data = ModelInputs()\n",
    "model_data\n",
    "\n",
    "roi_per_year(model_data)"
   ]
  },
  {
   "cell_type": "code",
   "execution_count": null,
   "id": "f1d17f21",
   "metadata": {},
   "outputs": [],
   "source": [
    "# Selling price per share decreases by 20%\n",
    "@dataclass\n",
    "class ModelInputs:\n",
    "    share_no : int = 500\n",
    "    buying_price: int = 10\n",
    "    dividend: int = 497.5\n",
    "    selling_price: int = 15\n",
    "    costs: int = 125\n",
    "        \n",
    "model_data = ModelInputs()\n",
    "model_data\n",
    "\n",
    "roi_per_year(model_data)"
   ]
  },
  {
   "cell_type": "markdown",
   "id": "55549e2e",
   "metadata": {},
   "source": [
    "## 6. Create a 'good' and 'bad' scenario"
   ]
  },
  {
   "cell_type": "code",
   "execution_count": null,
   "id": "25f1bf08",
   "metadata": {},
   "outputs": [],
   "source": [
    "# create a good bad scenario\n",
    "@dataclass\n",
    "class ModelInputs:\n",
    "    share_no : int = 500\n",
    "    buying_price: int = 10\n",
    "    dividend: int = 500\n",
    "    selling_price: int = 15\n",
    "    costs: int = 125\n",
    "        \n",
    "model_data = ModelInputs()\n",
    "model_data"
   ]
  },
  {
   "cell_type": "code",
   "execution_count": null,
   "id": "923e2d66",
   "metadata": {},
   "outputs": [],
   "source": [
    "bad_economy_data = ModelInputs(\n",
    "    share_no = 100,\n",
    "    buying_price = 600,\n",
    "    dividend = 200,\n",
    "    selling_price = 200,\n",
    "    costs = 900)\n",
    "\n",
    "good_economy_data = ModelInputs(\n",
    "    share_no= 800,\n",
    "    buying_price= 30,\n",
    "    dividend= 600,\n",
    "    selling_price= 45,\n",
    "    costs= 100)\n",
    "\n",
    "cases = {\n",
    "    'Bad': bad_economy_data,\n",
    "    'Normal': model_data, # Original inputs were set to assume a normal economy\n",
    "    'Good': good_economy_data}\n",
    "\n",
    "for case_type, case_inputs in cases.items():\n",
    "    ytr = anl_roi_per_year(case_inputs, print_output=False)\n",
    "    \n",
    "print(f'Annualized ROI would be {ytr} is case of {case_type} economy.')"
   ]
  },
  {
   "cell_type": "markdown",
   "id": "ee8309f3",
   "metadata": {},
   "source": [
    "## 7. Perform a what-if scenario"
   ]
  },
  {
   "cell_type": "code",
   "execution_count": null,
   "id": "12f55d60",
   "metadata": {},
   "outputs": [],
   "source": [
    "# run what-if analysis\n",
    "def analyzer_what_if(\n",
    "    \n",
    "    share_no  = 500,\n",
    "    buying_price = 10,\n",
    "    dividend = 500,\n",
    "    selling_price = 15,\n",
    "    costs = 125):\n",
    "    data = ModelInputs(\n",
    "        share_no=share_no, \n",
    "        buying_price=buying_price, \n",
    "        dividend=dividend, \n",
    "        selling_price=selling_price,  \n",
    "        costs=costs)\n",
    "    \n",
    "    return annualized_roi_per_year(data)\n",
    "\n",
    "analyzer_what_if()"
   ]
  },
  {
   "cell_type": "code",
   "execution_count": null,
   "id": "265d8db0",
   "metadata": {},
   "outputs": [],
   "source": [
    "def analyzer_what_if(    \n",
    "    share_no  = 500,\n",
    "    buying_price = 10,\n",
    "    dividend = 500,\n",
    "    selling_price = 15,\n",
    "    costs = 125):\n",
    "    data = ModelInputs(\n",
    "        share_no=share_no, \n",
    "        buying_price=buying_price, \n",
    "        dividend=dividend, \n",
    "        selling_price=selling_price,  \n",
    "        costs=costs)\n",
    "    \n",
    "    return anl_roi_per_year(data)\n",
    "\n",
    "analyzer_what_if()"
   ]
  },
  {
   "cell_type": "code",
   "execution_count": null,
   "id": "fe417042",
   "metadata": {},
   "outputs": [],
   "source": [
    "# It is certainly possible to specify all these hard-coded but \n",
    "# using list comprehensions makes it easy to adjust\n",
    "sensitivity_values = {\n",
    "    'share_no': [i * 100 for i in range(4, 8)],\n",
    "    'buying_price': [i*10 for i in range(4, 8)],\n",
    "    'dividend': [i *100 for i in range(1, 4)],\n",
    "    'selling_price': [i *10 for i in range(10, 25, 5)],\n",
    "    'costs': [i * 100 for i in range(3, 10)],\n",
    "    # 'interest_rate': [i/100 for i in range(3, 8)],\n",
    "    # 'desired_cash': [i * 100000 for i in range(10, 26, 5)]\n",
    "}\n",
    "\n",
    "sensitivity_values"
   ]
  },
  {
   "cell_type": "code",
   "execution_count": null,
   "id": "efc3f727",
   "metadata": {},
   "outputs": [],
   "source": [
    "sa = SensitivityAnalyzer(\n",
    "    sensitivity_values,\n",
    "    analyzer_what_if,\n",
    "    result_name='Annual ROI',\n",
    "    reverse_colors=True,\n",
    "    grid_size=3)"
   ]
  },
  {
   "cell_type": "code",
   "execution_count": null,
   "id": "ba8bf428",
   "metadata": {},
   "outputs": [],
   "source": [
    "# create a DataFrame\n",
    "sa.df"
   ]
  },
  {
   "cell_type": "code",
   "execution_count": null,
   "id": "01a1d834",
   "metadata": {},
   "outputs": [],
   "source": [
    "# create a visualisation\n",
    "sa.plot()"
   ]
  },
  {
   "cell_type": "code",
   "execution_count": null,
   "id": "407566fc",
   "metadata": {},
   "outputs": [],
   "source": [
    "# Display results as a DataFrame\n",
    "sa.styled_dfs()"
   ]
  },
  {
   "cell_type": "markdown",
   "id": "6aca8118",
   "metadata": {},
   "source": [
    "## 8. Identify best-case investment scenario"
   ]
  },
  {
   "cell_type": "code",
   "execution_count": null,
   "id": "a4c713bd",
   "metadata": {},
   "outputs": [],
   "source": [
    "@dataclass\n",
    "class ModelInputs:\n",
    "    share_no : int = 600\n",
    "    buying_price: int = 20\n",
    "    dividend: int = 800\n",
    "    selling_price: int = 22\n",
    "    costs: int = 100\n",
    "        \n",
    "model_data = ModelInputs()\n",
    "model_data"
   ]
  },
  {
   "cell_type": "code",
   "execution_count": null,
   "id": "6d9bf9b2",
   "metadata": {},
   "outputs": [],
   "source": [
    "def annualized_roi_per_year_for_required_roi(data: ModelInputs):\n",
    "    year = 0\n",
    "    prior_roi = 0\n",
    "    \n",
    "    for year in range(19):\n",
    "        year = year + 1        \n",
    "        net_return = (data.selling_price - data.buying_price) * data.share_no + data.dividend - data.costs\n",
    "        cost_of_investment = data.buying_price * data.share_no\n",
    "\n",
    "        roi = prior_roi + ((net_return)/(cost_of_investment))*100 \n",
    "        annual_roi = ((1 + (roi/100))**(1/year)-1)*100\n",
    "        \n",
    "        prior_roi = roi \n",
    "    print(f'The annualized ROI at year {year} reaches {annual_roi}% for total shares of {model_data.share_no}\\\n",
    "    with a buying price of {model_data.buying_price}, selling price of {model_data.selling_price}')\n",
    "    \n",
    "annualized_roi_per_year_for_required_roi(model_data)"
   ]
  },
  {
   "cell_type": "code",
   "execution_count": null,
   "id": "897fe7c9",
   "metadata": {},
   "outputs": [],
   "source": []
  }
 ],
 "metadata": {
  "kernelspec": {
   "display_name": "Python 3 (ipykernel)",
   "language": "python",
   "name": "python3"
  },
  "language_info": {
   "codemirror_mode": {
    "name": "ipython",
    "version": 3
   },
   "file_extension": ".py",
   "mimetype": "text/x-python",
   "name": "python",
   "nbconvert_exporter": "python",
   "pygments_lexer": "ipython3",
   "version": "3.9.12"
  }
 },
 "nbformat": 4,
 "nbformat_minor": 5
}
