{
 "cells": [
  {
   "cell_type": "markdown",
   "id": "94199fa3",
   "metadata": {},
   "source": [
    "### LSE Data Analytics Online Career Accelerator \n",
    "# Course 301: Data Analytics with Python"
   ]
  },
  {
   "cell_type": "markdown",
   "id": "46fcc342",
   "metadata": {},
   "source": [
    "## Practical activity: Fitting a data set using the OLS method"
   ]
  },
  {
   "cell_type": "markdown",
   "id": "26969258",
   "metadata": {},
   "source": [
    "**This is the solution to the activity.**\n",
    "\n",
    "In all regression models, the aim is to minimise residuals by finding the line of best fit. OLS is a common and straightforward way to estimate a linear regression model and to fit a linear equation to observed data. You’ll now have a chance to fit a data set using OLS in Python. \n",
    "\n",
    "An e-commerce store has asked you to analyse their online shopping experience. To help their marketing team optimise their campaign efforts to pre-existing users, the company wants to know how much money customers spend relative to how long they've been a member.\n",
    "\n",
    "Remember, the marketing team needs to find a way to predict as accurately as possible how much money customers will spend, based on how they have been a member of the shopping platform. Using the data set provided, you’ll need to decide on the independent and dependent variables and minimise residuals by finding the line of best fit. "
   ]
  },
  {
   "cell_type": "markdown",
   "id": "e0ec3ed0",
   "metadata": {},
   "source": [
    "## 1. Prepare your workstation"
   ]
  },
  {
   "cell_type": "code",
   "execution_count": null,
   "id": "19b7bc2c",
   "metadata": {},
   "outputs": [],
   "source": [
    "# import the necessary libraries\n",
    "import statsmodels.api as sm \n",
    "from statsmodels.formula.api import ols\n",
    "import numpy as np\n",
    "import pandas as pd\n",
    "import matplotlib.pyplot as plt"
   ]
  },
  {
   "cell_type": "markdown",
   "id": "8a657692",
   "metadata": {},
   "source": [
    "## 2. Import the data set"
   ]
  },
  {
   "cell_type": "code",
   "execution_count": null,
   "id": "78df595c",
   "metadata": {},
   "outputs": [],
   "source": [
    "# import the data set\n",
    "df_test = pd.read_csv('loyalty_club.csv')\n",
    "\n",
    "# view DataFrame\n",
    "df_test"
   ]
  },
  {
   "cell_type": "markdown",
   "id": "a2b6ccab",
   "metadata": {},
   "source": [
    "## 3. Define the variables"
   ]
  },
  {
   "cell_type": "code",
   "execution_count": null,
   "id": "d95605e9",
   "metadata": {},
   "outputs": [],
   "source": [
    "# dependent variable\n",
    "y = df_test['Yearly Amount Spent'] \n",
    " # independent variable\n",
    "X = df_test['Length of Membership']\n",
    "\n",
    "# check for linearity\n",
    "plt.scatter(X,y)"
   ]
  },
  {
   "cell_type": "markdown",
   "id": "f90d0c31",
   "metadata": {},
   "source": [
    "## 4. Run an OLS test"
   ]
  },
  {
   "cell_type": "code",
   "execution_count": null,
   "id": "d42e4559",
   "metadata": {},
   "outputs": [],
   "source": [
    "f = 'y ~ X'\n",
    "test = ols(f, data = df_test).fit()\n",
    "\n",
    "test.summary()"
   ]
  },
  {
   "cell_type": "markdown",
   "id": "971e7c36",
   "metadata": {},
   "source": [
    "## 5. Create linear equation"
   ]
  },
  {
   "cell_type": "code",
   "execution_count": null,
   "id": "99ef8409",
   "metadata": {},
   "outputs": [],
   "source": [
    "# x coef: 64.2187\n",
    "# constant coef: 272.3998\n",
    "\n",
    "y_pred = 64.2187 * X + 272.3998\t\n",
    "\n",
    "y_pred"
   ]
  },
  {
   "cell_type": "markdown",
   "id": "31d7d744",
   "metadata": {},
   "source": [
    "## 6. Plot the regression"
   ]
  },
  {
   "cell_type": "code",
   "execution_count": null,
   "id": "0380b297",
   "metadata": {},
   "outputs": [],
   "source": [
    "import matplotlib.pyplot as plt\n",
    "\n",
    "# plot the data points\n",
    "plt.scatter(X,y)\n",
    "\n",
    "# plot the line\n",
    "plt.plot(X,y_pred, color='black')"
   ]
  },
  {
   "cell_type": "code",
   "execution_count": null,
   "id": "7846a2bc",
   "metadata": {},
   "outputs": [],
   "source": []
  }
 ],
 "metadata": {
  "kernelspec": {
   "display_name": "Python 3 (ipykernel)",
   "language": "python",
   "name": "python3"
  },
  "language_info": {
   "codemirror_mode": {
    "name": "ipython",
    "version": 3
   },
   "file_extension": ".py",
   "mimetype": "text/x-python",
   "name": "python",
   "nbconvert_exporter": "python",
   "pygments_lexer": "ipython3",
   "version": "3.9.12"
  }
 },
 "nbformat": 4,
 "nbformat_minor": 5
}
