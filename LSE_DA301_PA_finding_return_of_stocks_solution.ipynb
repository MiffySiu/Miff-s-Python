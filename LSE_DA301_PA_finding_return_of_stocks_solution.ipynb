{
 "cells": [
  {
   "cell_type": "markdown",
   "id": "94199fa3",
   "metadata": {},
   "source": [
    "### LSE Data Analytics Online Career Accelerator \n",
    "# Course 301: Data Analytics with Python"
   ]
  },
  {
   "cell_type": "markdown",
   "id": "46fcc342",
   "metadata": {},
   "source": [
    "## Practical activity: Finding the return for S&P500 stocks"
   ]
  },
  {
   "cell_type": "markdown",
   "id": "26969258",
   "metadata": {},
   "source": [
    "**This is the solution to the activity.**\n",
    "\n",
    "As you have learned so far, CAPM describes the relationship between systematic risk and expected return for assets, primarily stocks. Using the CAPM, you can – given that investment’s characteristics, which are often values to plug into an equation or model – find the expected return of an investment. \n",
    "\n",
    "Yuki has started a position as a data analyst at a trusted investment bank. She’s been tasked with finding the expected returns of two of the top S&P 500 listed companies: Microsoft and Tesla. The bank's clientele want to know which of the two companies has stronger expected stock returns based on historical data, namely 2020 and 2021. \n",
    "\n",
    "In this activity you will use CAPM to help Yuki find the expected returns for Microsoft (MSFT) and Tesla Inc. (TSLA), based on data from 2020 and 2021. You will retrieve the historical data from Yahoo! Finance and find the variables for the CAPM equation, including:\n",
    "\n",
    "- the current average excess annual return of the US stocks on the S&P 500 (SPY)\n",
    "- the return on 10-year US Treasury bonds \n",
    "- the beta value for each stock. (Hint: You will need to find the first two values online.)\n",
    "\n",
    "After calculating the CAPM of each stock, make a statement on which has better-expected returns and which has a lower level of volatility."
   ]
  },
  {
   "cell_type": "markdown",
   "id": "e0ec3ed0",
   "metadata": {},
   "source": [
    "## 1. Prepare your workstation"
   ]
  },
  {
   "cell_type": "code",
   "execution_count": null,
   "id": "19b7bc2c",
   "metadata": {},
   "outputs": [],
   "source": [
    "#import all the necessary packages\n",
    "import numpy as np\n",
    "import pandas as pd\n",
    "import statsmodels.api as sm\n",
    "import sklearn\n",
    "import matplotlib.pyplot as plt\n",
    "import datetime\n",
    "import time\n",
    "\n",
    "from sklearn.linear_model import LinearRegression\n",
    "from pandas_datareader import data as web"
   ]
  },
  {
   "cell_type": "markdown",
   "id": "8a657692",
   "metadata": {},
   "source": [
    "## 2. Set the start and end date"
   ]
  },
  {
   "cell_type": "code",
   "execution_count": null,
   "id": "78df595c",
   "metadata": {},
   "outputs": [],
   "source": [
    "start = datetime.datetime(2020,1,1)\n",
    "end = datetime.datetime(2022,1,1)"
   ]
  },
  {
   "cell_type": "markdown",
   "id": "a2b6ccab",
   "metadata": {},
   "source": [
    "## 3.1 Pull data for Tesla from Yahoo! Finance and save as DataFrame"
   ]
  },
  {
   "cell_type": "code",
   "execution_count": null,
   "id": "d95605e9",
   "metadata": {},
   "outputs": [],
   "source": [
    "df_spy = web.DataReader('SPY','yahoo',start,end)\n",
    "\n",
    "df_spy.head()"
   ]
  },
  {
   "cell_type": "code",
   "execution_count": null,
   "id": "94d0f003",
   "metadata": {},
   "outputs": [],
   "source": [
    "df_tesla = web.DataReader('TSLA','yahoo',start,end)\n",
    "\n",
    "df_tesla.head()"
   ]
  },
  {
   "cell_type": "markdown",
   "id": "971e7c36",
   "metadata": {},
   "source": [
    "## 3.2 Check relationships and cumulative returns"
   ]
  },
  {
   "cell_type": "code",
   "execution_count": null,
   "id": "d42e4559",
   "metadata": {},
   "outputs": [],
   "source": [
    "# plot the data (Close) for both stocks\n",
    "df_tesla['Close'].plot(label = 'Tesla', figsize=(10,8))\n",
    "df_spy['Close'].plot(label = 'SPY')\n",
    "plt.legend()"
   ]
  },
  {
   "cell_type": "code",
   "execution_count": null,
   "id": "99ef8409",
   "metadata": {},
   "outputs": [],
   "source": [
    "df_tesla['Cumu'] = df_tesla['Close']/df_tesla['Close'].iloc[0] \n",
    "df_spy['Cumu'] = df_spy['Close']/df_spy['Close'].iloc[0]\n",
    "\n",
    "df_tesla['Cumu'].plot(label = 'Tesla', figsize=(10,8))\n",
    "df_spy['Cumu'].plot(label = 'SPY')\n",
    "plt.legend()"
   ]
  },
  {
   "cell_type": "code",
   "execution_count": null,
   "id": "a61a88d1",
   "metadata": {},
   "outputs": [],
   "source": [
    "df_tesla['daily_ret'] = df_tesla['Close'].pct_change(1)\n",
    "df_spy['daily_ret'] = df_spy['Close'].pct_change(1)\n",
    "plt.scatter(df_tesla['daily_ret'],df_spy['daily_ret'])"
   ]
  },
  {
   "cell_type": "markdown",
   "id": "31d7d744",
   "metadata": {},
   "source": [
    "## 3.3 Drawing the trend line"
   ]
  },
  {
   "cell_type": "code",
   "execution_count": null,
   "id": "0380b297",
   "metadata": {},
   "outputs": [],
   "source": [
    "daily_prices = pd.concat([df_tesla['Close'], df_spy['Close']], axis=1)\n",
    "daily_prices.columns = ['Tesla', 'SPY']\n",
    "\n",
    "print(daily_prices.head())"
   ]
  },
  {
   "cell_type": "code",
   "execution_count": null,
   "id": "7846a2bc",
   "metadata": {},
   "outputs": [],
   "source": [
    "daily_returns = daily_prices.pct_change(1)\n",
    "clean_daily_returns = daily_returns.dropna(axis=0) \n",
    "print(clean_daily_returns.head())"
   ]
  },
  {
   "cell_type": "markdown",
   "id": "9b4e7c4d",
   "metadata": {},
   "source": [
    "# 3.4 Linear regression analysis"
   ]
  },
  {
   "cell_type": "code",
   "execution_count": null,
   "id": "1848458e",
   "metadata": {},
   "outputs": [],
   "source": [
    "X = clean_daily_returns['SPY'].values.reshape(-1, 1)\n",
    "y = clean_daily_returns['Tesla'].values.reshape(-1, 1)"
   ]
  },
  {
   "cell_type": "code",
   "execution_count": null,
   "id": "bbe22f83",
   "metadata": {},
   "outputs": [],
   "source": [
    "lr = LinearRegression()\n",
    "lr.fit(X, y)"
   ]
  },
  {
   "cell_type": "code",
   "execution_count": null,
   "id": "6c17a6e6",
   "metadata": {},
   "outputs": [],
   "source": [
    "lr.coef_"
   ]
  },
  {
   "cell_type": "code",
   "execution_count": null,
   "id": "45f9cdba",
   "metadata": {},
   "outputs": [],
   "source": [
    "lr.intercept_"
   ]
  },
  {
   "cell_type": "markdown",
   "id": "5c3025e8",
   "metadata": {},
   "source": [
    "## 3.5 Drawing the line of best fit"
   ]
  },
  {
   "cell_type": "code",
   "execution_count": null,
   "id": "019319cb",
   "metadata": {},
   "outputs": [],
   "source": [
    "# x coef: 1.34497477\n",
    "# Constant coef: 0.00489288\n",
    "# Linear equation: 𝑦 = 𝑎𝑥 + 𝑏\n",
    "y_pred =  lr.coef_ * X + lr.intercept_\n",
    "y_pred"
   ]
  },
  {
   "cell_type": "code",
   "execution_count": null,
   "id": "a96f0633",
   "metadata": {},
   "outputs": [],
   "source": [
    "plt.scatter(X,y)\n",
    "plt.plot(X, y_pred, color='red')"
   ]
  },
  {
   "cell_type": "markdown",
   "id": "90668020",
   "metadata": {},
   "source": [
    "## 4 Pull data for Microsoft from Yahoo! Finance and save as DataFrame"
   ]
  },
  {
   "cell_type": "code",
   "execution_count": null,
   "id": "bc1209cc",
   "metadata": {},
   "outputs": [],
   "source": [
    "df_msoft = web.DataReader('MSFT','yahoo',start,end)\n",
    "df_msoft.head()"
   ]
  },
  {
   "cell_type": "code",
   "execution_count": null,
   "id": "3a3093fc",
   "metadata": {},
   "outputs": [],
   "source": [
    "df_msoft['Close'].plot(label = 'Microsoft', figsize=(10,8))\n",
    "df_spy['Close'].plot(label = 'SPY')\n",
    "plt.legend()"
   ]
  },
  {
   "cell_type": "code",
   "execution_count": null,
   "id": "8741e777",
   "metadata": {},
   "outputs": [],
   "source": [
    "df_msoft['Cumu'] = df_msoft['Close']/df_msoft['Close'].iloc[0] \n",
    "df_spy['Cumu'] = df_spy['Close']/df_spy['Close'].iloc[0]\n",
    "\n",
    "df_msoft['Cumu'].plot(label = 'Tesla', figsize=(10,8))\n",
    "df_spy['Cumu'].plot(label = 'SPY')\n",
    "plt.legend()"
   ]
  },
  {
   "cell_type": "code",
   "execution_count": null,
   "id": "d181657a",
   "metadata": {},
   "outputs": [],
   "source": [
    "df_msoft['daily_ret'] = df_msoft['Close'].pct_change(1)\n",
    "df_spy['daily_ret'] = df_spy['Close'].pct_change(1)\n",
    "plt.scatter(df_msoft['daily_ret'],df_spy['daily_ret'])"
   ]
  },
  {
   "cell_type": "code",
   "execution_count": null,
   "id": "230b4d7e",
   "metadata": {},
   "outputs": [],
   "source": [
    "daily_prices = pd.concat([df_msoft['Close'], df_spy['Close']], axis=1)\n",
    "daily_prices.columns = ['Microsoft', 'SPY']\n",
    "\n",
    "print(daily_prices.head())"
   ]
  },
  {
   "cell_type": "code",
   "execution_count": null,
   "id": "7b56b988",
   "metadata": {},
   "outputs": [],
   "source": [
    "daily_returns = daily_prices.pct_change(1)\n",
    "print(daily_returns.head())"
   ]
  },
  {
   "cell_type": "code",
   "execution_count": null,
   "id": "117c90bb",
   "metadata": {},
   "outputs": [],
   "source": [
    "daily_returns = daily_prices.pct_change(1)\n",
    "clean_daily_returns = daily_returns.dropna(axis=0) \n",
    "print(clean_daily_returns.head())"
   ]
  },
  {
   "cell_type": "code",
   "execution_count": null,
   "id": "4f1e17e3",
   "metadata": {},
   "outputs": [],
   "source": [
    "X = clean_daily_returns['SPY'].values.reshape(-1, 1)\n",
    "y = clean_daily_returns['Microsoft'].values.reshape(-1, 1)"
   ]
  },
  {
   "cell_type": "code",
   "execution_count": null,
   "id": "8f0c9d66",
   "metadata": {},
   "outputs": [],
   "source": [
    "lr = LinearRegression()\n",
    "lr.fit(X, y)"
   ]
  },
  {
   "cell_type": "code",
   "execution_count": null,
   "id": "6f584248",
   "metadata": {},
   "outputs": [],
   "source": [
    "lr.coef_"
   ]
  },
  {
   "cell_type": "code",
   "execution_count": null,
   "id": "c2b32c47",
   "metadata": {},
   "outputs": [],
   "source": [
    "lr.intercept_"
   ]
  },
  {
   "cell_type": "code",
   "execution_count": null,
   "id": "f0210dc4",
   "metadata": {},
   "outputs": [],
   "source": [
    "# x coef: 1.14398066\n",
    "# Constant coef: 0.00069205\n",
    "# Linear equation: 𝑦 = 𝑎𝑥 + 𝑏\n",
    "y_pred =  lr.coef_ * X + lr.intercept_\n",
    "y_pred"
   ]
  },
  {
   "cell_type": "code",
   "execution_count": null,
   "id": "788e2105",
   "metadata": {},
   "outputs": [],
   "source": [
    "plt.scatter(X,y)\n",
    "plt.plot(X, y_pred, color='red')"
   ]
  },
  {
   "cell_type": "code",
   "execution_count": null,
   "id": "c9cbe0b9",
   "metadata": {},
   "outputs": [],
   "source": []
  }
 ],
 "metadata": {
  "kernelspec": {
   "display_name": "Python 3 (ipykernel)",
   "language": "python",
   "name": "python3"
  },
  "language_info": {
   "codemirror_mode": {
    "name": "ipython",
    "version": 3
   },
   "file_extension": ".py",
   "mimetype": "text/x-python",
   "name": "python",
   "nbconvert_exporter": "python",
   "pygments_lexer": "ipython3",
   "version": "3.9.12"
  }
 },
 "nbformat": 4,
 "nbformat_minor": 5
}
